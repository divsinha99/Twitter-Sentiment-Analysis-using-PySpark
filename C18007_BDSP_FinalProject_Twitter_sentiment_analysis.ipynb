{
  "nbformat": 4,
  "nbformat_minor": 0,
  "metadata": {
    "colab": {
      "name": "C18007_BDSP_FinalProject_Twitter_sentiment_analysis.ipynb",
      "version": "0.3.2",
      "provenance": [],
      "collapsed_sections": [],
      "toc_visible": true,
      "include_colab_link": true
    },
    "kernelspec": {
      "name": "python3",
      "display_name": "Python 3"
    },
    "accelerator": "GPU"
  },
  "cells": [
    {
      "cell_type": "markdown",
      "metadata": {
        "id": "view-in-github",
        "colab_type": "text"
      },
      "source": [
        "[View in Colaboratory](https://colab.research.google.com/github/divsinha99/Twitter-Sentiment-Analysis-using-PySpark/blob/master/C18007_BDSP_FinalProject_Twitter_sentiment_analysis.ipynb)"
      ]
    },
    {
      "metadata": {
        "id": "FnZ9P42JjwNN",
        "colab_type": "text"
      },
      "cell_type": "markdown",
      "source": [
        "#  1.  Data Exploration:"
      ]
    },
    {
      "metadata": {
        "id": "l8Cr-nrvjlN6",
        "colab_type": "text"
      },
      "cell_type": "markdown",
      "source": [
        "## About the Data\n",
        "\n",
        "The dataset for training the model is from \"Sentiment140\", a dataset originated from Stanford University. More info on the dataset can be found from the below link. http://help.sentiment140.com/for-students/\n",
        "\n",
        "The dataset can be downloaded from the below link.\n",
        "http://cs.stanford.edu/people/alecmgo/trainingandtestdata.zip"
      ]
    },
    {
      "metadata": {
        "id": "Nft-Mm52jD7Z",
        "colab_type": "text"
      },
      "cell_type": "markdown",
      "source": [
        "## Format of the Data:\n",
        "\n",
        "The description of the dataset from the link, the information on each field can be found.\n",
        "\n",
        "The data is a CSV with emoticons removed. Data file format has 6 fields:\n",
        "- 0 - the polarity of the tweet (0 = negative, 2 = neutral, 4 = positive)\n",
        "- 1 - the id of the tweet (2087)\n",
        "- 2 - the date of the tweet (Sat May 16 23:58:44 UTC 2009)\n",
        "- 3 - the query (lyx). If there is no query, then this value is NO_QUERY.\n",
        "- 4 - the user that tweeted (robotickilldozr)\n",
        "- 5 - the text of the tweet (Lyx is cool)"
      ]
    },
    {
      "metadata": {
        "id": "G3AKC0m_j8_X",
        "colab_type": "text"
      },
      "cell_type": "markdown",
      "source": [
        "## Importing Libraries"
      ]
    },
    {
      "metadata": {
        "id": "i9lvQ9MEBZ_U",
        "colab_type": "code",
        "colab": {
          "base_uri": "https://localhost:8080/",
          "height": 0
        },
        "outputId": "f7732ab8-cdf6-4f17-c30c-b2979e12620a"
      },
      "cell_type": "code",
      "source": [
        "import pandas as pd  \n",
        "import numpy as np\n",
        "import matplotlib.pyplot as plt\n",
        "plt.style.use('fivethirtyeight')\n",
        "\n",
        "%matplotlib inline\n",
        "%config InlineBackend.figure_format = 'retina'"
      ],
      "execution_count": 9,
      "outputs": []
    },
    {
      "metadata": {
        "id": "QDJa4HyZkWS3",
        "colab_type": "text"
      },
      "cell_type": "markdown",
      "source": [
        "First, columns names have been assigned to each column."
      ]
    },
    {
      "metadata": {
        "id": "XjhF61LyBjSX",
        "colab_type": "code",
        "colab": {
          "base_uri": "https://localhost:8080/",
          "height": 0
        },
        "outputId": "8ff3c30b-6f45-4a8d-b81c-56c07fdc916b"
      },
      "cell_type": "code",
      "source": [
        "cols = ['sentiment','id','date','query_string','user','text']"
      ],
      "execution_count": 2,
      "outputs": []
    },
    {
      "metadata": {
        "id": "VqMZK5WskaHI",
        "colab_type": "text"
      },
      "cell_type": "markdown",
      "source": [
        "## Uploading of file"
      ]
    },
    {
      "metadata": {
        "id": "hH5UIYGRBqmF",
        "colab_type": "code",
        "colab": {
          "base_uri": "https://localhost:8080/",
          "height": 72
        },
        "outputId": "6d944a04-fb47-42d6-9664-999ca947dd3b"
      },
      "cell_type": "code",
      "source": [
        "from google.colab import files\n",
        "\n",
        "uploaded = files.upload()"
      ],
      "execution_count": 3,
      "outputs": [
        {
          "output_type": "display_data",
          "data": {
            "text/html": [
              "\n",
              "     <input type=\"file\" id=\"files-bb663321-1be5-4588-93ad-63a2b9205673\" name=\"files[]\" multiple disabled />\n",
              "     <output id=\"result-bb663321-1be5-4588-93ad-63a2b9205673\">\n",
              "      Upload widget is only available when the cell has been executed in the\n",
              "      current browser session. Please rerun this cell to enable.\n",
              "      </output>\n",
              "      <script src=\"/nbextensions/google.colab/files.js\"></script> "
            ],
            "text/plain": [
              "<IPython.core.display.HTML object>"
            ]
          },
          "metadata": {
            "tags": []
          }
        },
        {
          "output_type": "stream",
          "text": [
            "Saving trainingandtestdata.zip to trainingandtestdata.zip\n"
          ],
          "name": "stdout"
        }
      ]
    },
    {
      "metadata": {
        "id": "dVT9M112dkik",
        "colab_type": "code",
        "colab": {
          "base_uri": "https://localhost:8080/",
          "height": 0
        },
        "outputId": "91e85d83-f7d5-4305-cc44-8d336e083de0"
      },
      "cell_type": "code",
      "source": [
        "import os\n",
        "\n",
        "datasets_path = os.path.join('..', 'datalab')\n"
      ],
      "execution_count": 5,
      "outputs": []
    },
    {
      "metadata": {
        "id": "de7Ue8U1gOyd",
        "colab_type": "code",
        "colab": {
          "base_uri": "https://localhost:8080/",
          "height": 51
        },
        "outputId": "d80984fa-f496-4dde-8a04-ae32fe5c3cb8"
      },
      "cell_type": "code",
      "source": [
        "!ls ../datalab"
      ],
      "execution_count": 14,
      "outputs": [
        {
          "output_type": "stream",
          "text": [
            "run.sh\t\t\t\ttraining.1600000.processed.noemoticon.csv\r\n",
            "testdata.manual.2009.06.14.csv\tweb\r\n"
          ],
          "name": "stdout"
        }
      ]
    },
    {
      "metadata": {
        "id": "O380FDrmkfA8",
        "colab_type": "text"
      },
      "cell_type": "markdown",
      "source": [
        "## Unzip file"
      ]
    },
    {
      "metadata": {
        "id": "8bLkDltGdgXp",
        "colab_type": "code",
        "colab": {
          "base_uri": "https://localhost:8080/",
          "height": 0
        },
        "outputId": "52916321-be48-4ebd-b4c3-989608edd83f"
      },
      "cell_type": "code",
      "source": [
        "import zipfile\n",
        "\n",
        "\n",
        "with zipfile.ZipFile('trainingandtestdata.zip', \"r\") as z:\n",
        "    z.extractall(datasets_path)"
      ],
      "execution_count": 13,
      "outputs": []
    },
    {
      "metadata": {
        "id": "j5drIxP3eXf6",
        "colab_type": "code",
        "colab": {
          "base_uri": "https://localhost:8080/",
          "height": 289
        },
        "outputId": "05755105-c2aa-4f44-cf83-15f4b4ed7ca3"
      },
      "cell_type": "code",
      "source": [
        "df = pd.read_csv(\"../datalab/training.1600000.processed.noemoticon.csv\",header=None, names=cols, encoding='latin-1')\n",
        "                              \n",
        "                              \n",
        "df.head()"
      ],
      "execution_count": 18,
      "outputs": [
        {
          "output_type": "execute_result",
          "data": {
            "text/html": [
              "<div>\n",
              "<style scoped>\n",
              "    .dataframe tbody tr th:only-of-type {\n",
              "        vertical-align: middle;\n",
              "    }\n",
              "\n",
              "    .dataframe tbody tr th {\n",
              "        vertical-align: top;\n",
              "    }\n",
              "\n",
              "    .dataframe thead th {\n",
              "        text-align: right;\n",
              "    }\n",
              "</style>\n",
              "<table border=\"1\" class=\"dataframe\">\n",
              "  <thead>\n",
              "    <tr style=\"text-align: right;\">\n",
              "      <th></th>\n",
              "      <th>sentiment</th>\n",
              "      <th>id</th>\n",
              "      <th>date</th>\n",
              "      <th>query_string</th>\n",
              "      <th>user</th>\n",
              "      <th>text</th>\n",
              "    </tr>\n",
              "  </thead>\n",
              "  <tbody>\n",
              "    <tr>\n",
              "      <th>0</th>\n",
              "      <td>0</td>\n",
              "      <td>1467810369</td>\n",
              "      <td>Mon Apr 06 22:19:45 PDT 2009</td>\n",
              "      <td>NO_QUERY</td>\n",
              "      <td>_TheSpecialOne_</td>\n",
              "      <td>@switchfoot http://twitpic.com/2y1zl - Awww, t...</td>\n",
              "    </tr>\n",
              "    <tr>\n",
              "      <th>1</th>\n",
              "      <td>0</td>\n",
              "      <td>1467810672</td>\n",
              "      <td>Mon Apr 06 22:19:49 PDT 2009</td>\n",
              "      <td>NO_QUERY</td>\n",
              "      <td>scotthamilton</td>\n",
              "      <td>is upset that he can't update his Facebook by ...</td>\n",
              "    </tr>\n",
              "    <tr>\n",
              "      <th>2</th>\n",
              "      <td>0</td>\n",
              "      <td>1467810917</td>\n",
              "      <td>Mon Apr 06 22:19:53 PDT 2009</td>\n",
              "      <td>NO_QUERY</td>\n",
              "      <td>mattycus</td>\n",
              "      <td>@Kenichan I dived many times for the ball. Man...</td>\n",
              "    </tr>\n",
              "    <tr>\n",
              "      <th>3</th>\n",
              "      <td>0</td>\n",
              "      <td>1467811184</td>\n",
              "      <td>Mon Apr 06 22:19:57 PDT 2009</td>\n",
              "      <td>NO_QUERY</td>\n",
              "      <td>ElleCTF</td>\n",
              "      <td>my whole body feels itchy and like its on fire</td>\n",
              "    </tr>\n",
              "    <tr>\n",
              "      <th>4</th>\n",
              "      <td>0</td>\n",
              "      <td>1467811193</td>\n",
              "      <td>Mon Apr 06 22:19:57 PDT 2009</td>\n",
              "      <td>NO_QUERY</td>\n",
              "      <td>Karoli</td>\n",
              "      <td>@nationwideclass no, it's not behaving at all....</td>\n",
              "    </tr>\n",
              "  </tbody>\n",
              "</table>\n",
              "</div>"
            ],
            "text/plain": [
              "   sentiment          id                          date query_string  \\\n",
              "0          0  1467810369  Mon Apr 06 22:19:45 PDT 2009     NO_QUERY   \n",
              "1          0  1467810672  Mon Apr 06 22:19:49 PDT 2009     NO_QUERY   \n",
              "2          0  1467810917  Mon Apr 06 22:19:53 PDT 2009     NO_QUERY   \n",
              "3          0  1467811184  Mon Apr 06 22:19:57 PDT 2009     NO_QUERY   \n",
              "4          0  1467811193  Mon Apr 06 22:19:57 PDT 2009     NO_QUERY   \n",
              "\n",
              "              user                                               text  \n",
              "0  _TheSpecialOne_  @switchfoot http://twitpic.com/2y1zl - Awww, t...  \n",
              "1    scotthamilton  is upset that he can't update his Facebook by ...  \n",
              "2         mattycus  @Kenichan I dived many times for the ball. Man...  \n",
              "3          ElleCTF    my whole body feels itchy and like its on fire   \n",
              "4           Karoli  @nationwideclass no, it's not behaving at all....  "
            ]
          },
          "metadata": {
            "tags": []
          },
          "execution_count": 18
        }
      ]
    },
    {
      "metadata": {
        "id": "YfF247NShsJw",
        "colab_type": "code",
        "colab": {
          "base_uri": "https://localhost:8080/",
          "height": 204
        },
        "outputId": "3f4d9cd9-5503-4f15-81e9-b115b5370ade"
      },
      "cell_type": "code",
      "source": [
        "df.info()"
      ],
      "execution_count": 19,
      "outputs": [
        {
          "output_type": "stream",
          "text": [
            "<class 'pandas.core.frame.DataFrame'>\n",
            "RangeIndex: 1600000 entries, 0 to 1599999\n",
            "Data columns (total 6 columns):\n",
            "sentiment       1600000 non-null int64\n",
            "id              1600000 non-null int64\n",
            "date            1600000 non-null object\n",
            "query_string    1600000 non-null object\n",
            "user            1600000 non-null object\n",
            "text            1600000 non-null object\n",
            "dtypes: int64(2), object(4)\n",
            "memory usage: 73.2+ MB\n"
          ],
          "name": "stdout"
        }
      ]
    },
    {
      "metadata": {
        "id": "KYHG6ZOOiWfk",
        "colab_type": "code",
        "colab": {
          "base_uri": "https://localhost:8080/",
          "height": 68
        },
        "outputId": "f8ec28fb-440f-404a-cfbf-8264b39d23bd"
      },
      "cell_type": "code",
      "source": [
        "df.sentiment.value_counts()"
      ],
      "execution_count": 20,
      "outputs": [
        {
          "output_type": "execute_result",
          "data": {
            "text/plain": [
              "4    800000\n",
              "0    800000\n",
              "Name: sentiment, dtype: int64"
            ]
          },
          "metadata": {
            "tags": []
          },
          "execution_count": 20
        }
      ]
    },
    {
      "metadata": {
        "id": "Ux-wkJ13knAA",
        "colab_type": "text"
      },
      "cell_type": "markdown",
      "source": [
        "Dataset has 1.6million entries, with no null entries, and for the \"sentiment\" column, even though the dataset description mentioned neutral class, the training set has no neutral class. 50% of the data is with negative label, and another 50% with positive label. We can see there's no skewness on the class division."
      ]
    },
    {
      "metadata": {
        "id": "vrA40DA0iXDv",
        "colab_type": "code",
        "colab": {
          "base_uri": "https://localhost:8080/",
          "height": 51
        },
        "outputId": "2cea487e-bf8a-479c-d029-2e7abb71ccf6"
      },
      "cell_type": "code",
      "source": [
        "df.query_string.value_counts()"
      ],
      "execution_count": 21,
      "outputs": [
        {
          "output_type": "execute_result",
          "data": {
            "text/plain": [
              "NO_QUERY    1600000\n",
              "Name: query_string, dtype: int64"
            ]
          },
          "metadata": {
            "tags": []
          },
          "execution_count": 21
        }
      ]
    },
    {
      "metadata": {
        "id": "tbqs6eTqlKXR",
        "colab_type": "text"
      },
      "cell_type": "markdown",
      "source": [
        "Let's get started by dropping the columns that I don't need for the specific purpose of sentiment analysis.\n",
        "\n",
        "- \"id\" column is unique ID for each tweet\n",
        "- \"date\" column is for date info for the tweet\n",
        "- \"query_string\" column indicates whether the tweet has been collected with any particular query keyword, but for this column, 100% of the entries are with value \"NO_QUERY\"\n",
        "- \"user\" column is the twitter handle name for the user who tweeted\n"
      ]
    },
    {
      "metadata": {
        "id": "3AaVwP1Vk024",
        "colab_type": "code",
        "colab": {
          "base_uri": "https://localhost:8080/",
          "height": 0
        },
        "outputId": "a4a544ab-9f77-4cc7-af5c-aa282f79bb74"
      },
      "cell_type": "code",
      "source": [
        "df.drop(['id','date','query_string','user'],axis=1,inplace=True)"
      ],
      "execution_count": 22,
      "outputs": []
    },
    {
      "metadata": {
        "id": "jELZ10tflCSb",
        "colab_type": "code",
        "colab": {
          "base_uri": "https://localhost:8080/",
          "height": 204
        },
        "outputId": "0f6a2086-2b5b-4e8f-96dd-9e4f57f78e0e"
      },
      "cell_type": "code",
      "source": [
        "df.head()"
      ],
      "execution_count": 23,
      "outputs": [
        {
          "output_type": "execute_result",
          "data": {
            "text/html": [
              "<div>\n",
              "<style scoped>\n",
              "    .dataframe tbody tr th:only-of-type {\n",
              "        vertical-align: middle;\n",
              "    }\n",
              "\n",
              "    .dataframe tbody tr th {\n",
              "        vertical-align: top;\n",
              "    }\n",
              "\n",
              "    .dataframe thead th {\n",
              "        text-align: right;\n",
              "    }\n",
              "</style>\n",
              "<table border=\"1\" class=\"dataframe\">\n",
              "  <thead>\n",
              "    <tr style=\"text-align: right;\">\n",
              "      <th></th>\n",
              "      <th>sentiment</th>\n",
              "      <th>text</th>\n",
              "    </tr>\n",
              "  </thead>\n",
              "  <tbody>\n",
              "    <tr>\n",
              "      <th>0</th>\n",
              "      <td>0</td>\n",
              "      <td>@switchfoot http://twitpic.com/2y1zl - Awww, t...</td>\n",
              "    </tr>\n",
              "    <tr>\n",
              "      <th>1</th>\n",
              "      <td>0</td>\n",
              "      <td>is upset that he can't update his Facebook by ...</td>\n",
              "    </tr>\n",
              "    <tr>\n",
              "      <th>2</th>\n",
              "      <td>0</td>\n",
              "      <td>@Kenichan I dived many times for the ball. Man...</td>\n",
              "    </tr>\n",
              "    <tr>\n",
              "      <th>3</th>\n",
              "      <td>0</td>\n",
              "      <td>my whole body feels itchy and like its on fire</td>\n",
              "    </tr>\n",
              "    <tr>\n",
              "      <th>4</th>\n",
              "      <td>0</td>\n",
              "      <td>@nationwideclass no, it's not behaving at all....</td>\n",
              "    </tr>\n",
              "  </tbody>\n",
              "</table>\n",
              "</div>"
            ],
            "text/plain": [
              "   sentiment                                               text\n",
              "0          0  @switchfoot http://twitpic.com/2y1zl - Awww, t...\n",
              "1          0  is upset that he can't update his Facebook by ...\n",
              "2          0  @Kenichan I dived many times for the ball. Man...\n",
              "3          0    my whole body feels itchy and like its on fire \n",
              "4          0  @nationwideclass no, it's not behaving at all...."
            ]
          },
          "metadata": {
            "tags": []
          },
          "execution_count": 23
        }
      ]
    },
    {
      "metadata": {
        "id": "CunAKz8ilEOT",
        "colab_type": "code",
        "colab": {
          "base_uri": "https://localhost:8080/",
          "height": 359
        },
        "outputId": "7adc21f2-ffbd-455d-d63c-135a1cc910ba"
      },
      "cell_type": "code",
      "source": [
        "df[df.sentiment == 0].head(10)"
      ],
      "execution_count": 24,
      "outputs": [
        {
          "output_type": "execute_result",
          "data": {
            "text/html": [
              "<div>\n",
              "<style scoped>\n",
              "    .dataframe tbody tr th:only-of-type {\n",
              "        vertical-align: middle;\n",
              "    }\n",
              "\n",
              "    .dataframe tbody tr th {\n",
              "        vertical-align: top;\n",
              "    }\n",
              "\n",
              "    .dataframe thead th {\n",
              "        text-align: right;\n",
              "    }\n",
              "</style>\n",
              "<table border=\"1\" class=\"dataframe\">\n",
              "  <thead>\n",
              "    <tr style=\"text-align: right;\">\n",
              "      <th></th>\n",
              "      <th>sentiment</th>\n",
              "      <th>text</th>\n",
              "    </tr>\n",
              "  </thead>\n",
              "  <tbody>\n",
              "    <tr>\n",
              "      <th>0</th>\n",
              "      <td>0</td>\n",
              "      <td>@switchfoot http://twitpic.com/2y1zl - Awww, t...</td>\n",
              "    </tr>\n",
              "    <tr>\n",
              "      <th>1</th>\n",
              "      <td>0</td>\n",
              "      <td>is upset that he can't update his Facebook by ...</td>\n",
              "    </tr>\n",
              "    <tr>\n",
              "      <th>2</th>\n",
              "      <td>0</td>\n",
              "      <td>@Kenichan I dived many times for the ball. Man...</td>\n",
              "    </tr>\n",
              "    <tr>\n",
              "      <th>3</th>\n",
              "      <td>0</td>\n",
              "      <td>my whole body feels itchy and like its on fire</td>\n",
              "    </tr>\n",
              "    <tr>\n",
              "      <th>4</th>\n",
              "      <td>0</td>\n",
              "      <td>@nationwideclass no, it's not behaving at all....</td>\n",
              "    </tr>\n",
              "    <tr>\n",
              "      <th>5</th>\n",
              "      <td>0</td>\n",
              "      <td>@Kwesidei not the whole crew</td>\n",
              "    </tr>\n",
              "    <tr>\n",
              "      <th>6</th>\n",
              "      <td>0</td>\n",
              "      <td>Need a hug</td>\n",
              "    </tr>\n",
              "    <tr>\n",
              "      <th>7</th>\n",
              "      <td>0</td>\n",
              "      <td>@LOLTrish hey  long time no see! Yes.. Rains a...</td>\n",
              "    </tr>\n",
              "    <tr>\n",
              "      <th>8</th>\n",
              "      <td>0</td>\n",
              "      <td>@Tatiana_K nope they didn't have it</td>\n",
              "    </tr>\n",
              "    <tr>\n",
              "      <th>9</th>\n",
              "      <td>0</td>\n",
              "      <td>@twittera que me muera ?</td>\n",
              "    </tr>\n",
              "  </tbody>\n",
              "</table>\n",
              "</div>"
            ],
            "text/plain": [
              "   sentiment                                               text\n",
              "0          0  @switchfoot http://twitpic.com/2y1zl - Awww, t...\n",
              "1          0  is upset that he can't update his Facebook by ...\n",
              "2          0  @Kenichan I dived many times for the ball. Man...\n",
              "3          0    my whole body feels itchy and like its on fire \n",
              "4          0  @nationwideclass no, it's not behaving at all....\n",
              "5          0                      @Kwesidei not the whole crew \n",
              "6          0                                        Need a hug \n",
              "7          0  @LOLTrish hey  long time no see! Yes.. Rains a...\n",
              "8          0               @Tatiana_K nope they didn't have it \n",
              "9          0                          @twittera que me muera ? "
            ]
          },
          "metadata": {
            "tags": []
          },
          "execution_count": 24
        }
      ]
    },
    {
      "metadata": {
        "id": "yMdbXYddlaw3",
        "colab_type": "code",
        "colab": {
          "base_uri": "https://localhost:8080/",
          "height": 359
        },
        "outputId": "b5a3a566-6b16-4159-9825-8714c6b36ebd"
      },
      "cell_type": "code",
      "source": [
        "df[df.sentiment == 4].head(10)"
      ],
      "execution_count": 25,
      "outputs": [
        {
          "output_type": "execute_result",
          "data": {
            "text/html": [
              "<div>\n",
              "<style scoped>\n",
              "    .dataframe tbody tr th:only-of-type {\n",
              "        vertical-align: middle;\n",
              "    }\n",
              "\n",
              "    .dataframe tbody tr th {\n",
              "        vertical-align: top;\n",
              "    }\n",
              "\n",
              "    .dataframe thead th {\n",
              "        text-align: right;\n",
              "    }\n",
              "</style>\n",
              "<table border=\"1\" class=\"dataframe\">\n",
              "  <thead>\n",
              "    <tr style=\"text-align: right;\">\n",
              "      <th></th>\n",
              "      <th>sentiment</th>\n",
              "      <th>text</th>\n",
              "    </tr>\n",
              "  </thead>\n",
              "  <tbody>\n",
              "    <tr>\n",
              "      <th>800000</th>\n",
              "      <td>4</td>\n",
              "      <td>I LOVE @Health4UandPets u guys r the best!!</td>\n",
              "    </tr>\n",
              "    <tr>\n",
              "      <th>800001</th>\n",
              "      <td>4</td>\n",
              "      <td>im meeting up with one of my besties tonight! ...</td>\n",
              "    </tr>\n",
              "    <tr>\n",
              "      <th>800002</th>\n",
              "      <td>4</td>\n",
              "      <td>@DaRealSunisaKim Thanks for the Twitter add, S...</td>\n",
              "    </tr>\n",
              "    <tr>\n",
              "      <th>800003</th>\n",
              "      <td>4</td>\n",
              "      <td>Being sick can be really cheap when it hurts t...</td>\n",
              "    </tr>\n",
              "    <tr>\n",
              "      <th>800004</th>\n",
              "      <td>4</td>\n",
              "      <td>@LovesBrooklyn2 he has that effect on everyone</td>\n",
              "    </tr>\n",
              "    <tr>\n",
              "      <th>800005</th>\n",
              "      <td>4</td>\n",
              "      <td>@ProductOfFear You can tell him that I just bu...</td>\n",
              "    </tr>\n",
              "    <tr>\n",
              "      <th>800006</th>\n",
              "      <td>4</td>\n",
              "      <td>@r_keith_hill Thans for your response. Ihad al...</td>\n",
              "    </tr>\n",
              "    <tr>\n",
              "      <th>800007</th>\n",
              "      <td>4</td>\n",
              "      <td>@KeepinUpWKris I am so jealous, hope you had a...</td>\n",
              "    </tr>\n",
              "    <tr>\n",
              "      <th>800008</th>\n",
              "      <td>4</td>\n",
              "      <td>@tommcfly ah, congrats mr fletcher for finally...</td>\n",
              "    </tr>\n",
              "    <tr>\n",
              "      <th>800009</th>\n",
              "      <td>4</td>\n",
              "      <td>@e4VoIP I RESPONDED  Stupid cat is helping me ...</td>\n",
              "    </tr>\n",
              "  </tbody>\n",
              "</table>\n",
              "</div>"
            ],
            "text/plain": [
              "        sentiment                                               text\n",
              "800000          4       I LOVE @Health4UandPets u guys r the best!! \n",
              "800001          4  im meeting up with one of my besties tonight! ...\n",
              "800002          4  @DaRealSunisaKim Thanks for the Twitter add, S...\n",
              "800003          4  Being sick can be really cheap when it hurts t...\n",
              "800004          4    @LovesBrooklyn2 he has that effect on everyone \n",
              "800005          4  @ProductOfFear You can tell him that I just bu...\n",
              "800006          4  @r_keith_hill Thans for your response. Ihad al...\n",
              "800007          4  @KeepinUpWKris I am so jealous, hope you had a...\n",
              "800008          4  @tommcfly ah, congrats mr fletcher for finally...\n",
              "800009          4  @e4VoIP I RESPONDED  Stupid cat is helping me ..."
            ]
          },
          "metadata": {
            "tags": []
          },
          "execution_count": 25
        }
      ]
    },
    {
      "metadata": {
        "id": "QZInpbzYlmXa",
        "colab_type": "text"
      },
      "cell_type": "markdown",
      "source": [
        "It seems like that all the negative class is from 0~799999th index, and the positive class entries start from 800000 to the end of the dataset."
      ]
    },
    {
      "metadata": {
        "id": "2RMzUdYvldV5",
        "colab_type": "code",
        "colab": {
          "base_uri": "https://localhost:8080/",
          "height": 119
        },
        "outputId": "98a25fad-26eb-4c4b-a878-38dbfe7c91d1"
      },
      "cell_type": "code",
      "source": [
        "df[df.sentiment == 0].index"
      ],
      "execution_count": 26,
      "outputs": [
        {
          "output_type": "execute_result",
          "data": {
            "text/plain": [
              "Int64Index([     0,      1,      2,      3,      4,      5,      6,      7,\n",
              "                 8,      9,\n",
              "            ...\n",
              "            799990, 799991, 799992, 799993, 799994, 799995, 799996, 799997,\n",
              "            799998, 799999],\n",
              "           dtype='int64', length=800000)"
            ]
          },
          "metadata": {
            "tags": []
          },
          "execution_count": 26
        }
      ]
    },
    {
      "metadata": {
        "id": "ZUtj-rXxlqpe",
        "colab_type": "code",
        "colab": {
          "base_uri": "https://localhost:8080/",
          "height": 119
        },
        "outputId": "fdcbde90-f8f2-4077-e69d-207f2e9d49a8"
      },
      "cell_type": "code",
      "source": [
        "df[df.sentiment == 4].index"
      ],
      "execution_count": 27,
      "outputs": [
        {
          "output_type": "execute_result",
          "data": {
            "text/plain": [
              "Int64Index([ 800000,  800001,  800002,  800003,  800004,  800005,  800006,\n",
              "             800007,  800008,  800009,\n",
              "            ...\n",
              "            1599990, 1599991, 1599992, 1599993, 1599994, 1599995, 1599996,\n",
              "            1599997, 1599998, 1599999],\n",
              "           dtype='int64', length=800000)"
            ]
          },
          "metadata": {
            "tags": []
          },
          "execution_count": 27
        }
      ]
    },
    {
      "metadata": {
        "id": "5TR8Vcbhlzk_",
        "colab_type": "text"
      },
      "cell_type": "markdown",
      "source": [
        "Mapped the class value of 4(positive) to 1."
      ]
    },
    {
      "metadata": {
        "id": "M1kZo7lbltEX",
        "colab_type": "code",
        "colab": {
          "base_uri": "https://localhost:8080/",
          "height": 0
        },
        "outputId": "461bcd49-24b4-46c9-9d60-1651342cc6bd"
      },
      "cell_type": "code",
      "source": [
        "df['sentiment'] = df['sentiment'].map({0: 0, 4: 1})"
      ],
      "execution_count": 28,
      "outputs": []
    },
    {
      "metadata": {
        "id": "8Q4MZce_mBaE",
        "colab_type": "code",
        "colab": {
          "base_uri": "https://localhost:8080/",
          "height": 68
        },
        "outputId": "8b70c7a2-5583-4b97-87a9-f138a2a0e51c"
      },
      "cell_type": "code",
      "source": [
        "df.sentiment.value_counts()"
      ],
      "execution_count": 29,
      "outputs": [
        {
          "output_type": "execute_result",
          "data": {
            "text/plain": [
              "1    800000\n",
              "0    800000\n",
              "Name: sentiment, dtype: int64"
            ]
          },
          "metadata": {
            "tags": []
          },
          "execution_count": 29
        }
      ]
    },
    {
      "metadata": {
        "id": "NUxdxvJbmJzE",
        "colab_type": "text"
      },
      "cell_type": "markdown",
      "source": [
        "# 2.  Data Preparation"
      ]
    },
    {
      "metadata": {
        "id": "CcTvQwBSmEeL",
        "colab_type": "code",
        "colab": {
          "base_uri": "https://localhost:8080/",
          "height": 0
        },
        "outputId": "1a83f8e4-4db7-4282-8067-b461d1e77fb8"
      },
      "cell_type": "code",
      "source": [
        "df['pre_clean_len'] = [len(t) for t in df.text]"
      ],
      "execution_count": 30,
      "outputs": []
    },
    {
      "metadata": {
        "id": "HO4gh7HFmvau",
        "colab_type": "code",
        "colab": {
          "base_uri": "https://localhost:8080/",
          "height": 119
        },
        "outputId": "a6b15311-31ad-4ec4-dfa1-d681874a92b4"
      },
      "cell_type": "code",
      "source": [
        "from pprint import pprint\n",
        "data_dict = {\n",
        "    'sentiment':{\n",
        "        'type':df.sentiment.dtype,\n",
        "        'description':'sentiment class - 0:negative, 1:positive'\n",
        "    },\n",
        "    'text':{\n",
        "        'type':df.text.dtype,\n",
        "        'description':'tweet text'\n",
        "    },\n",
        "    'pre_clean_len':{\n",
        "        'type':df.pre_clean_len.dtype,\n",
        "        'description':'Length of the tweet before cleaning'\n",
        "    },\n",
        "    'dataset_shape':df.shape\n",
        "}\n",
        "\n",
        "pprint(data_dict)"
      ],
      "execution_count": 31,
      "outputs": [
        {
          "output_type": "stream",
          "text": [
            "{'dataset_shape': (1600000, 3),\n",
            " 'pre_clean_len': {'description': 'Length of the tweet before cleaning',\n",
            "                   'type': dtype('int64')},\n",
            " 'sentiment': {'description': 'sentiment class - 0:negative, 1:positive',\n",
            "               'type': dtype('int64')},\n",
            " 'text': {'description': 'tweet text', 'type': dtype('O')}}\n"
          ],
          "name": "stdout"
        }
      ]
    },
    {
      "metadata": {
        "id": "nzAyMbdhmzAk",
        "colab_type": "code",
        "colab": {
          "base_uri": "https://localhost:8080/",
          "height": 319
        },
        "outputId": "2f39c422-69b8-414f-87ac-cf17397bdf34"
      },
      "cell_type": "code",
      "source": [
        "fig, ax = plt.subplots(figsize=(5, 5))\n",
        "plt.boxplot(df.pre_clean_len)\n",
        "plt.show()"
      ],
      "execution_count": 32,
      "outputs": [
        {
          "output_type": "display_data",
          "data": {
            "image/png": "[encoded data removed]",
            "text/plain": [
              "<matplotlib.figure.Figure at 0x7f0b458d0c50>"
            ]
          },
          "metadata": {
            "tags": [],
            "image/png": {
              "width": 351,
              "height": 302
            }
          }
        }
      ]
    },
    {
      "metadata": {
        "id": "i4SZiUAbm7pw",
        "colab_type": "code",
        "colab": {
          "base_uri": "https://localhost:8080/",
          "height": 359
        },
        "outputId": "5cff3a3e-0866-4d95-b287-3c41174bae34"
      },
      "cell_type": "code",
      "source": [
        "df[df.pre_clean_len > 140].head(10)"
      ],
      "execution_count": 33,
      "outputs": [
        {
          "output_type": "execute_result",
          "data": {
            "text/html": [
              "<div>\n",
              "<style scoped>\n",
              "    .dataframe tbody tr th:only-of-type {\n",
              "        vertical-align: middle;\n",
              "    }\n",
              "\n",
              "    .dataframe tbody tr th {\n",
              "        vertical-align: top;\n",
              "    }\n",
              "\n",
              "    .dataframe thead th {\n",
              "        text-align: right;\n",
              "    }\n",
              "</style>\n",
              "<table border=\"1\" class=\"dataframe\">\n",
              "  <thead>\n",
              "    <tr style=\"text-align: right;\">\n",
              "      <th></th>\n",
              "      <th>sentiment</th>\n",
              "      <th>text</th>\n",
              "      <th>pre_clean_len</th>\n",
              "    </tr>\n",
              "  </thead>\n",
              "  <tbody>\n",
              "    <tr>\n",
              "      <th>213</th>\n",
              "      <td>0</td>\n",
              "      <td>Awwh babs... you look so sad underneith that s...</td>\n",
              "      <td>142</td>\n",
              "    </tr>\n",
              "    <tr>\n",
              "      <th>226</th>\n",
              "      <td>0</td>\n",
              "      <td>Tuesdayï¿½ll start with reflection ï¿½n then a...</td>\n",
              "      <td>141</td>\n",
              "    </tr>\n",
              "    <tr>\n",
              "      <th>279</th>\n",
              "      <td>0</td>\n",
              "      <td>Whinging. My client&amp;amp;boss don't understand ...</td>\n",
              "      <td>145</td>\n",
              "    </tr>\n",
              "    <tr>\n",
              "      <th>343</th>\n",
              "      <td>0</td>\n",
              "      <td>@TheLeagueSF Not Fun &amp;amp; Furious? The new ma...</td>\n",
              "      <td>145</td>\n",
              "    </tr>\n",
              "    <tr>\n",
              "      <th>400</th>\n",
              "      <td>0</td>\n",
              "      <td>#3 woke up and was having an accident - &amp;quot;...</td>\n",
              "      <td>144</td>\n",
              "    </tr>\n",
              "    <tr>\n",
              "      <th>464</th>\n",
              "      <td>0</td>\n",
              "      <td>My bathtub drain is fired: it haz 1 job 2 do, ...</td>\n",
              "      <td>146</td>\n",
              "    </tr>\n",
              "    <tr>\n",
              "      <th>492</th>\n",
              "      <td>0</td>\n",
              "      <td>pears &amp;amp; Brie, bottle of Cabernet, and &amp;quo...</td>\n",
              "      <td>150</td>\n",
              "    </tr>\n",
              "    <tr>\n",
              "      <th>747</th>\n",
              "      <td>0</td>\n",
              "      <td>Have an invite for &amp;quot;Healthy Dining&amp;quot; ...</td>\n",
              "      <td>141</td>\n",
              "    </tr>\n",
              "    <tr>\n",
              "      <th>957</th>\n",
              "      <td>0</td>\n",
              "      <td>Damnit I was really digging this season of Rea...</td>\n",
              "      <td>141</td>\n",
              "    </tr>\n",
              "    <tr>\n",
              "      <th>1064</th>\n",
              "      <td>0</td>\n",
              "      <td>Why do I keep looking...I know that what I rea...</td>\n",
              "      <td>141</td>\n",
              "    </tr>\n",
              "  </tbody>\n",
              "</table>\n",
              "</div>"
            ],
            "text/plain": [
              "      sentiment                                               text  \\\n",
              "213           0  Awwh babs... you look so sad underneith that s...   \n",
              "226           0  Tuesdayï¿½ll start with reflection ï¿½n then a...   \n",
              "279           0  Whinging. My client&amp;boss don't understand ...   \n",
              "343           0  @TheLeagueSF Not Fun &amp; Furious? The new ma...   \n",
              "400           0  #3 woke up and was having an accident - &quot;...   \n",
              "464           0  My bathtub drain is fired: it haz 1 job 2 do, ...   \n",
              "492           0  pears &amp; Brie, bottle of Cabernet, and &quo...   \n",
              "747           0  Have an invite for &quot;Healthy Dining&quot; ...   \n",
              "957           0  Damnit I was really digging this season of Rea...   \n",
              "1064          0  Why do I keep looking...I know that what I rea...   \n",
              "\n",
              "      pre_clean_len  \n",
              "213             142  \n",
              "226             141  \n",
              "279             145  \n",
              "343             145  \n",
              "400             144  \n",
              "464             146  \n",
              "492             150  \n",
              "747             141  \n",
              "957             141  \n",
              "1064            141  "
            ]
          },
          "metadata": {
            "tags": []
          },
          "execution_count": 33
        }
      ]
    },
    {
      "metadata": {
        "id": "LPYibr4JnCLx",
        "colab_type": "text"
      },
      "cell_type": "markdown",
      "source": [
        "## Data Preparation 1: HTML decoding"
      ]
    },
    {
      "metadata": {
        "id": "-qO02jK8m_Wc",
        "colab_type": "code",
        "colab": {
          "base_uri": "https://localhost:8080/",
          "height": 54
        },
        "outputId": "0945a1cf-d892-425e-b857-a8dd01a0a76f"
      },
      "cell_type": "code",
      "source": [
        "df.text[279]"
      ],
      "execution_count": 34,
      "outputs": [
        {
          "output_type": "execute_result",
          "data": {
            "text/plain": [
              "\"Whinging. My client&amp;boss don't understand English well. Rewrote some text unreadable. It's written by v. good writer&amp;reviewed correctly. \""
            ]
          },
          "metadata": {
            "tags": []
          },
          "execution_count": 34
        }
      ]
    },
    {
      "metadata": {
        "id": "wtKuVm0SnF_d",
        "colab_type": "code",
        "colab": {
          "base_uri": "https://localhost:8080/",
          "height": 54
        },
        "outputId": "e5aad796-a655-42ca-d928-a737d3788cdb"
      },
      "cell_type": "code",
      "source": [
        "from bs4 import BeautifulSoup\n",
        "example1 = BeautifulSoup(df.text[279], features='html.parser')\n",
        "print(example1.get_text())"
      ],
      "execution_count": 43,
      "outputs": [
        {
          "output_type": "stream",
          "text": [
            "Whinging. My client&boss don't understand English well. Rewrote some text unreadable. It's written by v. good writer&reviewed correctly. \n"
          ],
          "name": "stdout"
        }
      ]
    },
    {
      "metadata": {
        "id": "i0EELIgxofbR",
        "colab_type": "text"
      },
      "cell_type": "markdown",
      "source": [
        "## Data Preparation 2: @mention"
      ]
    },
    {
      "metadata": {
        "id": "75MaZv9XnKbd",
        "colab_type": "code",
        "colab": {
          "base_uri": "https://localhost:8080/",
          "height": 54
        },
        "outputId": "d8e45e27-1711-4600-a6a1-525d564e2936"
      },
      "cell_type": "code",
      "source": [
        "df.text[343]"
      ],
      "execution_count": 44,
      "outputs": [
        {
          "output_type": "execute_result",
          "data": {
            "text/plain": [
              "'@TheLeagueSF Not Fun &amp; Furious? The new mantra for the Bay 2 Breakers? It was getting 2 rambunctious;the city overreacted &amp; clamped down '"
            ]
          },
          "metadata": {
            "tags": []
          },
          "execution_count": 44
        }
      ]
    },
    {
      "metadata": {
        "id": "BOHxyw0KojA8",
        "colab_type": "code",
        "colab": {
          "base_uri": "https://localhost:8080/",
          "height": 54
        },
        "outputId": "11f5d183-1781-4f66-caa6-190723aac329"
      },
      "cell_type": "code",
      "source": [
        "import re\n",
        "re.sub(r'@[A-Za-z0-9]+','',df.text[343])"
      ],
      "execution_count": 45,
      "outputs": [
        {
          "output_type": "execute_result",
          "data": {
            "text/plain": [
              "' Not Fun &amp; Furious? The new mantra for the Bay 2 Breakers? It was getting 2 rambunctious;the city overreacted &amp; clamped down '"
            ]
          },
          "metadata": {
            "tags": []
          },
          "execution_count": 45
        }
      ]
    },
    {
      "metadata": {
        "id": "R9GzAoQGooNa",
        "colab_type": "text"
      },
      "cell_type": "markdown",
      "source": [
        "## Data Preparation 3: URL links"
      ]
    },
    {
      "metadata": {
        "id": "sHzSq1sBolFX",
        "colab_type": "code",
        "colab": {
          "base_uri": "https://localhost:8080/",
          "height": 54
        },
        "outputId": "fbdd2284-7134-4307-b645-dbe5d5d9595f"
      },
      "cell_type": "code",
      "source": [
        "df.text[0]"
      ],
      "execution_count": 46,
      "outputs": [
        {
          "output_type": "execute_result",
          "data": {
            "text/plain": [
              "\"@switchfoot http://twitpic.com/2y1zl - Awww, that's a bummer.  You shoulda got David Carr of Third Day to do it. ;D\""
            ]
          },
          "metadata": {
            "tags": []
          },
          "execution_count": 46
        }
      ]
    },
    {
      "metadata": {
        "id": "VjwFpxNQorlq",
        "colab_type": "code",
        "colab": {
          "base_uri": "https://localhost:8080/",
          "height": 34
        },
        "outputId": "25ccc698-510a-413b-d663-a8acbce0b12d"
      },
      "cell_type": "code",
      "source": [
        "re.sub('https?://[A-Za-z0-9./]+','',df.text[0])"
      ],
      "execution_count": 47,
      "outputs": [
        {
          "output_type": "execute_result",
          "data": {
            "text/plain": [
              "\"@switchfoot  - Awww, that's a bummer.  You shoulda got David Carr of Third Day to do it. ;D\""
            ]
          },
          "metadata": {
            "tags": []
          },
          "execution_count": 47
        }
      ]
    },
    {
      "metadata": {
        "id": "JTfXtcdRoxNH",
        "colab_type": "text"
      },
      "cell_type": "markdown",
      "source": [
        "## Data Preparation 4: UTF-8 BOM (Byte Order Mark)"
      ]
    },
    {
      "metadata": {
        "id": "PRa97_dmouka",
        "colab_type": "code",
        "colab": {
          "base_uri": "https://localhost:8080/",
          "height": 54
        },
        "outputId": "e7ae5502-3fa2-499f-a80c-b1cd5c533e76"
      },
      "cell_type": "code",
      "source": [
        "df.text[226]"
      ],
      "execution_count": 48,
      "outputs": [
        {
          "output_type": "execute_result",
          "data": {
            "text/plain": [
              "'Tuesdayï¿½ll start with reflection ï¿½n then a lecture in Stress reducing techniques. That sure might become very useful for us accompaniers '"
            ]
          },
          "metadata": {
            "tags": []
          },
          "execution_count": 48
        }
      ]
    },
    {
      "metadata": {
        "id": "ctIfXSDso2Vi",
        "colab_type": "code",
        "colab": {
          "base_uri": "https://localhost:8080/",
          "height": 54
        },
        "outputId": "6097b3d6-9d93-4d81-d864-92b2270cd257"
      },
      "cell_type": "code",
      "source": [
        "testing = df.text[226].encode().decode(\"utf-8-sig\")\n",
        "testing"
      ],
      "execution_count": 56,
      "outputs": [
        {
          "output_type": "execute_result",
          "data": {
            "text/plain": [
              "'Tuesdayï¿½ll start with reflection ï¿½n then a lecture in Stress reducing techniques. That sure might become very useful for us accompaniers '"
            ]
          },
          "metadata": {
            "tags": []
          },
          "execution_count": 56
        }
      ]
    },
    {
      "metadata": {
        "id": "U59AlyihqaB7",
        "colab_type": "code",
        "colab": {
          "base_uri": "https://localhost:8080/",
          "height": 54
        },
        "outputId": "83e58122-8c96-4a8e-8a01-d9d2ca987a99"
      },
      "cell_type": "code",
      "source": [
        "testing.replace(\"ï¿½\", \"?\")"
      ],
      "execution_count": 57,
      "outputs": [
        {
          "output_type": "execute_result",
          "data": {
            "text/plain": [
              "'Tuesday?ll start with reflection ?n then a lecture in Stress reducing techniques. That sure might become very useful for us accompaniers '"
            ]
          },
          "metadata": {
            "tags": []
          },
          "execution_count": 57
        }
      ]
    },
    {
      "metadata": {
        "id": "i62KB0eszFCy",
        "colab_type": "text"
      },
      "cell_type": "markdown",
      "source": [
        "## Data Preparation 5: hashtag / numbers"
      ]
    },
    {
      "metadata": {
        "id": "qmCRwgINy5Uc",
        "colab_type": "code",
        "colab": {
          "base_uri": "https://localhost:8080/",
          "height": 34
        },
        "outputId": "574dcc3d-0832-46be-d823-738b613a5470"
      },
      "cell_type": "code",
      "source": [
        "df.text[175]"
      ],
      "execution_count": 58,
      "outputs": [
        {
          "output_type": "execute_result",
          "data": {
            "text/plain": [
              "\"@machineplay I'm so sorry you're having to go through this. Again.  #therapyfail\""
            ]
          },
          "metadata": {
            "tags": []
          },
          "execution_count": 58
        }
      ]
    },
    {
      "metadata": {
        "id": "tYrNBLwazIQW",
        "colab_type": "code",
        "colab": {
          "base_uri": "https://localhost:8080/",
          "height": 34
        },
        "outputId": "ac364532-d625-4dfd-c3e5-21db7d4d9eb0"
      },
      "cell_type": "code",
      "source": [
        "re.sub(\"[^a-zA-Z]\", \" \", df.text[175])"
      ],
      "execution_count": 59,
      "outputs": [
        {
          "output_type": "execute_result",
          "data": {
            "text/plain": [
              "' machineplay I m so sorry you re having to go through this  Again    therapyfail'"
            ]
          },
          "metadata": {
            "tags": []
          },
          "execution_count": 59
        }
      ]
    },
    {
      "metadata": {
        "id": "vKmtoO3GzM2g",
        "colab_type": "text"
      },
      "cell_type": "markdown",
      "source": [
        "## Defining data cleaning function"
      ]
    },
    {
      "metadata": {
        "id": "dJNrkxHzzKMu",
        "colab_type": "code",
        "colab": {
          "base_uri": "https://localhost:8080/",
          "height": 0
        },
        "outputId": "f79877c1-7087-4cef-c763-af225cfe1924"
      },
      "cell_type": "code",
      "source": [
        "from nltk.tokenize import WordPunctTokenizer\n",
        "tok = WordPunctTokenizer()"
      ],
      "execution_count": 60,
      "outputs": []
    },
    {
      "metadata": {
        "id": "gJZbzxq9zQf0",
        "colab_type": "code",
        "colab": {
          "base_uri": "https://localhost:8080/",
          "height": 0
        },
        "outputId": "f5193afa-575c-4177-9cca-953a4ddbbe63"
      },
      "cell_type": "code",
      "source": [
        "pat1 = r'@[A-Za-z0-9]+'\n",
        "pat2 = r'https?://[A-Za-z0-9./]+'\n",
        "combined_pat = r'|'.join((pat1, pat2))\n",
        "\n",
        "def tweet_cleaner(text):\n",
        "    soup = BeautifulSoup(text, features='html.parser')\n",
        "    souped = soup.get_text()\n",
        "    stripped = re.sub(combined_pat, '', souped)\n",
        "    try:\n",
        "        clean = stripped.decode(\"utf-8-sig\").replace(u\"\\ufffd\", \"?\")\n",
        "    except:\n",
        "        clean = stripped\n",
        "    letters_only = re.sub(\"[^a-zA-Z]\", \" \", clean)\n",
        "    lower_case = letters_only.lower()\n",
        "    # During the letters_only process two lines above, it has created unnecessay white spaces,\n",
        "    # I will tokenize and join together to remove unneccessary white spaces\n",
        "    words = tok.tokenize(lower_case)\n",
        "    return (\" \".join(words)).strip()"
      ],
      "execution_count": 64,
      "outputs": []
    },
    {
      "metadata": {
        "id": "qtruhEMFzVJi",
        "colab_type": "code",
        "colab": {
          "base_uri": "https://localhost:8080/",
          "height": 0
        },
        "outputId": "a1869ca0-24c3-4de7-8815-1ffc29d199f2"
      },
      "cell_type": "code",
      "source": [
        "testing = df.text[:100]"
      ],
      "execution_count": 65,
      "outputs": []
    },
    {
      "metadata": {
        "id": "DKmdJ6kqzXPi",
        "colab_type": "code",
        "colab": {
          "base_uri": "https://localhost:8080/",
          "height": 17
        },
        "outputId": "a34ed188-4c8c-4320-a65f-6d5d5649ce96"
      },
      "cell_type": "code",
      "source": [
        "test_result = []\n",
        "for t in testing:\n",
        "    test_result.append(tweet_cleaner(t))"
      ],
      "execution_count": 66,
      "outputs": []
    },
    {
      "metadata": {
        "id": "cXnPrH6XzcXv",
        "colab_type": "code",
        "colab": {
          "base_uri": "https://localhost:8080/",
          "height": 1737
        },
        "outputId": "5f722ee2-c7be-45f8-e7c5-5ce45bef0566"
      },
      "cell_type": "code",
      "source": [
        "test_result"
      ],
      "execution_count": 67,
      "outputs": [
        {
          "output_type": "execute_result",
          "data": {
            "text/plain": [
              "['awww that s a bummer you shoulda got david carr of third day to do it d',\n",
              " 'is upset that he can t update his facebook by texting it and might cry as a result school today also blah',\n",
              " 'i dived many times for the ball managed to save the rest go out of bounds',\n",
              " 'my whole body feels itchy and like its on fire',\n",
              " 'no it s not behaving at all i m mad why am i here because i can t see you all over there',\n",
              " 'not the whole crew',\n",
              " 'need a hug',\n",
              " 'hey long time no see yes rains a bit only a bit lol i m fine thanks how s you',\n",
              " 'k nope they didn t have it',\n",
              " 'que me muera',\n",
              " 'spring break in plain city it s snowing',\n",
              " 'i just re pierced my ears',\n",
              " 'i couldn t bear to watch it and i thought the ua loss was embarrassing',\n",
              " 'it it counts idk why i did either you never talk to me anymore',\n",
              " 'i would ve been the first but i didn t have a gun not really though zac snyder s just a doucheclown',\n",
              " 'i wish i got to watch it with you i miss you and how was the premiere',\n",
              " 'hollis death scene will hurt me severely to watch on film wry is directors cut not out now',\n",
              " 'about to file taxes',\n",
              " 'ahh ive always wanted to see rent love the soundtrack',\n",
              " 'oh dear were you drinking out of the forgotten table drinks',\n",
              " 'i was out most of the day so didn t get much done',\n",
              " 'one of my friend called me and asked to meet with her at mid valley today but i ve no time sigh',\n",
              " 'barista i baked you a cake but i ated it',\n",
              " 'this week is not going as i had hoped',\n",
              " 'blagh class at tomorrow',\n",
              " 'i hate when i have to call and wake people up',\n",
              " 'just going to cry myself to sleep after watching marley and me',\n",
              " 'im sad now miss lilly',\n",
              " 'ooooh lol that leslie and ok i won t do it again so leslie won t get mad again',\n",
              " 'meh almost lover is the exception this track gets me depressed every time',\n",
              " 'some hacked my account on aim now i have to make a new one',\n",
              " 'i want to go to promote gear and groove but unfornately no ride there i may b going to the one in anaheim in may though',\n",
              " 'thought sleeping in was an option tomorrow but realizing that it now is not evaluations in the morning and work in the afternoon',\n",
              " 'awe i love you too am here i miss you',\n",
              " 'i cry my asian eyes to sleep at night',\n",
              " 'ok i m sick and spent an hour sitting in the shower cause i was too sick to stand and held back the puke like a champ bed now',\n",
              " 'ill tell ya the story later not a good day and ill be workin for like three more hours',\n",
              " 'sorry bed time came here gmt',\n",
              " 'i don t either its depressing i don t think i even want to know about the kids in suitcases',\n",
              " 'bed class work gym or then class another day that s gonna fly by i miss my girlfriend',\n",
              " 'really don t feel like getting up today but got to study to for tomorrows practical exam',\n",
              " 'he s the reason for the teardrops on my guitar the only one who has enough of me to break my heart',\n",
              " 'sad sad sad i don t know why but i hate this feeling i wanna sleep and i still can t',\n",
              " 'awww i soo wish i was there to see you finally comfortable im sad that i missed it',\n",
              " 'falling asleep just heard about that tracy girl s body being found how sad my heart breaks for that family',\n",
              " 'yay i m happy for you with your job but that also means less time for me and you',\n",
              " 'just checked my user timeline on my blackberry it looks like the twanking is still happening are ppl still having probs w bgs and uids',\n",
              " 'oh man was ironing s fave top to wear to a meeting burnt it',\n",
              " 'is strangely sad about lilo and samro breaking up',\n",
              " 'oh i m so sorry i didn t think about that before retweeting',\n",
              " 'broadband plan a massive broken promise via www diigo com tautao still waiting for broadband we are',\n",
              " 'wow tons of replies from you may have to unfollow so i can see my friends tweets you re scrolling the feed a lot',\n",
              " 'our duck and chicken are taking wayyy too long to hatch',\n",
              " 'put vacation photos online a few yrs ago pc crashed and now i forget the name of the site',\n",
              " 'i need a hug',\n",
              " 'not sure what they are only that they are pos as much as i want to i dont think can trade away company assets sorry andy',\n",
              " 'i hate when that happens',\n",
              " 'i have a sad feeling that dallas is not going to show up i gotta say though you d think more shows would use music from the game mmm',\n",
              " 'ugh degrees tomorrow',\n",
              " 'where did u move to i thought u were already in sd hmmm random u found me glad to hear yer doing well',\n",
              " 'i miss my ps it s out of commission wutcha playing have you copped blood on the sand',\n",
              " 'just leaving the parking lot of work',\n",
              " 'the life is cool but not for me',\n",
              " 'sadly though i ve never gotten to experience the post coitus cigarette before and now i never will',\n",
              " 'i had such a nice day too bad the rain comes in tomorrow at am',\n",
              " 'too bad i won t be around i lost my job and can t even pay my phone bill lmao aw shucks',\n",
              " 'damm back to school tomorrow',\n",
              " 'mo jobs no money how in the hell is min wage here f n clams an hour',\n",
              " 'not forever see you soon',\n",
              " 'algonquin agreed i saw the failwhale allllll day today',\n",
              " 'oh haha dude i dont really look at em unless someone says hey i added you sorry i m so terrible at that i need a pop up',\n",
              " 'i m sure you re right i need to start working out with you and the nikster or jared at least',\n",
              " 'i really hate how people diss my bands trace is clearly not ugly',\n",
              " 'gym attire today was puma singlet adidas shorts and black business socks and leather shoes lucky did not run into any cute girls',\n",
              " 'why won t you show my location',\n",
              " 'no picnic my phone smells like citrus',\n",
              " 'my donkey is sensitive about such comments nevertheless he d and me d be glad to see your mug asap charger is still awol',\n",
              " 'no new csi tonight fml',\n",
              " 'i think my arms are sore from tennis',\n",
              " 'wonders why someone that u like so much can make you so unhappy in a split seccond depressed',\n",
              " 'sleep soon i just hate saying bye and see you tomorrow for the night',\n",
              " 'just got ur newsletter those fares really are unbelievable shame i already booked and paid for mine',\n",
              " 'missin the boo',\n",
              " 'me too itm',\n",
              " 'damn i don t have any chalk my chalkboard is useless',\n",
              " 'had a blast at the getty villa but hates that she s had a sore throat all day it s just getting worse too',\n",
              " 'hey missed ya at the meeting sup mama',\n",
              " 'my tummy hurts i wonder if the hypnosis has anything to do with it if so it s working i get it stop smoking',\n",
              " 'why is it always the fat ones',\n",
              " 'sorry babe my fam annoys me too thankfully they re asleep right now muahaha evil laugh',\n",
              " 'i should have paid more attention when we covered photoshop in my webpage design class in undergrad',\n",
              " 'wednesday my b day don t know what do',\n",
              " 'poor cameron the hills',\n",
              " 'pray for me please the ex is threatening to start sh at my our babies st birthday party what a jerk and i still have a headache',\n",
              " 'hmm do u really enjoy being with him if the problems are too constants u should think things more find someone ulike',\n",
              " 'strider is a sick little puppy',\n",
              " 'so rylee grace wana go steve s party or not sadly since its easter i wnt b able do much but ohh well',\n",
              " 'hey i actually won one of my bracket pools too bad it wasn t the one for money',\n",
              " 'you don t follow me either and i work for you',\n",
              " 'a bad nite for the favorite teams astros and spartans lose the nite out with t w was good']"
            ]
          },
          "metadata": {
            "tags": []
          },
          "execution_count": 67
        }
      ]
    },
    {
      "metadata": {
        "id": "PxUJ6p1MzoCz",
        "colab_type": "code",
        "colab": {
          "base_uri": "https://localhost:8080/",
          "height": 0
        },
        "outputId": "4c3ba30e-c8c8-4330-c3db-4538a8b166c6"
      },
      "cell_type": "code",
      "source": [
        "nums = [0,400000,800000,1200000,1600000]"
      ],
      "execution_count": 68,
      "outputs": []
    },
    {
      "metadata": {
        "id": "Wm-7olcwzsEP",
        "colab_type": "code",
        "colab": {
          "base_uri": "https://localhost:8080/",
          "height": 765
        },
        "outputId": "d2136bc1-f47e-420b-fcad-01efb93cbd71"
      },
      "cell_type": "code",
      "source": [
        "%%time\n",
        "print(\"Cleaning and parsing the tweets...\\n\")\n",
        "clean_tweet_texts = []\n",
        "for i in range(nums[0],nums[1]):\n",
        "    if( (i+1)%10000 == 0 ):\n",
        "        print(\"Tweets %d of %d has been processed\" % ( i+1, nums[1] ))                                                                    \n",
        "    clean_tweet_texts.append(tweet_cleaner(df['text'][i]))"
      ],
      "execution_count": 70,
      "outputs": [
        {
          "output_type": "stream",
          "text": [
            "Cleaning and parsing the tweets...\n",
            "\n",
            "Tweets 10000 of 400000 has been processed\n",
            "Tweets 20000 of 400000 has been processed\n",
            "Tweets 30000 of 400000 has been processed\n",
            "Tweets 40000 of 400000 has been processed\n",
            "Tweets 50000 of 400000 has been processed\n",
            "Tweets 60000 of 400000 has been processed\n",
            "Tweets 70000 of 400000 has been processed\n",
            "Tweets 80000 of 400000 has been processed\n",
            "Tweets 90000 of 400000 has been processed\n",
            "Tweets 100000 of 400000 has been processed\n",
            "Tweets 110000 of 400000 has been processed\n",
            "Tweets 120000 of 400000 has been processed\n",
            "Tweets 130000 of 400000 has been processed\n",
            "Tweets 140000 of 400000 has been processed\n",
            "Tweets 150000 of 400000 has been processed\n",
            "Tweets 160000 of 400000 has been processed\n",
            "Tweets 170000 of 400000 has been processed\n",
            "Tweets 180000 of 400000 has been processed\n",
            "Tweets 190000 of 400000 has been processed\n",
            "Tweets 200000 of 400000 has been processed\n",
            "Tweets 210000 of 400000 has been processed\n",
            "Tweets 220000 of 400000 has been processed\n",
            "Tweets 230000 of 400000 has been processed\n",
            "Tweets 240000 of 400000 has been processed\n",
            "Tweets 250000 of 400000 has been processed\n",
            "Tweets 260000 of 400000 has been processed\n",
            "Tweets 270000 of 400000 has been processed\n",
            "Tweets 280000 of 400000 has been processed\n",
            "Tweets 290000 of 400000 has been processed\n",
            "Tweets 300000 of 400000 has been processed\n",
            "Tweets 310000 of 400000 has been processed\n",
            "Tweets 320000 of 400000 has been processed\n",
            "Tweets 330000 of 400000 has been processed\n",
            "Tweets 340000 of 400000 has been processed\n",
            "Tweets 350000 of 400000 has been processed\n",
            "Tweets 360000 of 400000 has been processed\n",
            "Tweets 370000 of 400000 has been processed\n",
            "Tweets 380000 of 400000 has been processed\n",
            "Tweets 390000 of 400000 has been processed\n",
            "Tweets 400000 of 400000 has been processed\n",
            "CPU times: user 1min 8s, sys: 3.43 s, total: 1min 11s\n",
            "Wall time: 1min 11s\n"
          ],
          "name": "stdout"
        }
      ]
    },
    {
      "metadata": {
        "id": "ZY8w-EVF0Cuj",
        "colab_type": "code",
        "colab": {
          "base_uri": "https://localhost:8080/",
          "height": 34
        },
        "outputId": "83529f35-c722-4ef8-a2e1-a028964509c2"
      },
      "cell_type": "code",
      "source": [
        "len(clean_tweet_texts)"
      ],
      "execution_count": 71,
      "outputs": [
        {
          "output_type": "execute_result",
          "data": {
            "text/plain": [
              "400000"
            ]
          },
          "metadata": {
            "tags": []
          },
          "execution_count": 71
        }
      ]
    },
    {
      "metadata": {
        "id": "z098GL6m0LBD",
        "colab_type": "code",
        "colab": {
          "base_uri": "https://localhost:8080/",
          "height": 765
        },
        "outputId": "738e7f0e-055b-492b-830e-6b647cc5a56f"
      },
      "cell_type": "code",
      "source": [
        "%%time\n",
        "print(\"Cleaning and parsing the tweets...\\n\")\n",
        "for i in range(nums[1],nums[2]):\n",
        "    if( (i+1)%10000 == 0 ):\n",
        "        print(\"Tweets %d of %d has been processed\" % ( i+1, nums[2] ))\n",
        "    clean_tweet_texts.append(tweet_cleaner(df['text'][i]))"
      ],
      "execution_count": 72,
      "outputs": [
        {
          "output_type": "stream",
          "text": [
            "Cleaning and parsing the tweets...\n",
            "\n",
            "Tweets 410000 of 800000 has been processed\n",
            "Tweets 420000 of 800000 has been processed\n",
            "Tweets 430000 of 800000 has been processed\n",
            "Tweets 440000 of 800000 has been processed\n",
            "Tweets 450000 of 800000 has been processed\n",
            "Tweets 460000 of 800000 has been processed\n",
            "Tweets 470000 of 800000 has been processed\n",
            "Tweets 480000 of 800000 has been processed\n",
            "Tweets 490000 of 800000 has been processed\n",
            "Tweets 500000 of 800000 has been processed\n",
            "Tweets 510000 of 800000 has been processed\n",
            "Tweets 520000 of 800000 has been processed\n",
            "Tweets 530000 of 800000 has been processed\n",
            "Tweets 540000 of 800000 has been processed\n",
            "Tweets 550000 of 800000 has been processed\n",
            "Tweets 560000 of 800000 has been processed\n",
            "Tweets 570000 of 800000 has been processed\n",
            "Tweets 580000 of 800000 has been processed\n",
            "Tweets 590000 of 800000 has been processed\n",
            "Tweets 600000 of 800000 has been processed\n",
            "Tweets 610000 of 800000 has been processed\n",
            "Tweets 620000 of 800000 has been processed\n",
            "Tweets 630000 of 800000 has been processed\n",
            "Tweets 640000 of 800000 has been processed\n",
            "Tweets 650000 of 800000 has been processed\n",
            "Tweets 660000 of 800000 has been processed\n",
            "Tweets 670000 of 800000 has been processed\n",
            "Tweets 680000 of 800000 has been processed\n",
            "Tweets 690000 of 800000 has been processed\n",
            "Tweets 700000 of 800000 has been processed\n",
            "Tweets 710000 of 800000 has been processed\n",
            "Tweets 720000 of 800000 has been processed\n",
            "Tweets 730000 of 800000 has been processed\n",
            "Tweets 740000 of 800000 has been processed\n",
            "Tweets 750000 of 800000 has been processed\n",
            "Tweets 760000 of 800000 has been processed\n",
            "Tweets 770000 of 800000 has been processed\n",
            "Tweets 780000 of 800000 has been processed\n",
            "Tweets 790000 of 800000 has been processed\n",
            "Tweets 800000 of 800000 has been processed\n",
            "CPU times: user 1min 8s, sys: 3.76 s, total: 1min 12s\n",
            "Wall time: 1min 11s\n"
          ],
          "name": "stdout"
        }
      ]
    },
    {
      "metadata": {
        "id": "00nHOXLJ0drG",
        "colab_type": "code",
        "colab": {
          "base_uri": "https://localhost:8080/",
          "height": 34
        },
        "outputId": "a3a119c7-b35f-4d74-db1b-0161d40b5fb8"
      },
      "cell_type": "code",
      "source": [
        "len(clean_tweet_texts)"
      ],
      "execution_count": 73,
      "outputs": [
        {
          "output_type": "execute_result",
          "data": {
            "text/plain": [
              "800000"
            ]
          },
          "metadata": {
            "tags": []
          },
          "execution_count": 73
        }
      ]
    },
    {
      "metadata": {
        "id": "-uNYUjy00n4J",
        "colab_type": "code",
        "colab": {
          "base_uri": "https://localhost:8080/",
          "height": 765
        },
        "outputId": "5f77e920-ba0b-45df-a810-01f51e4bb706"
      },
      "cell_type": "code",
      "source": [
        "%%time\n",
        "print(\"Cleaning and parsing the tweets...\\n\")\n",
        "for i in range(nums[2],nums[3]):\n",
        "    if( (i+1)%10000 == 0 ):\n",
        "        print (\"Tweets %d of %d has been processed\" % ( i+1, nums[3] ))\n",
        "    clean_tweet_texts.append(tweet_cleaner(df['text'][i]))"
      ],
      "execution_count": 74,
      "outputs": [
        {
          "output_type": "stream",
          "text": [
            "Cleaning and parsing the tweets...\n",
            "\n",
            "Tweets 810000 of 1200000 has been processed\n",
            "Tweets 820000 of 1200000 has been processed\n",
            "Tweets 830000 of 1200000 has been processed\n",
            "Tweets 840000 of 1200000 has been processed\n",
            "Tweets 850000 of 1200000 has been processed\n",
            "Tweets 860000 of 1200000 has been processed\n",
            "Tweets 870000 of 1200000 has been processed\n",
            "Tweets 880000 of 1200000 has been processed\n",
            "Tweets 890000 of 1200000 has been processed\n",
            "Tweets 900000 of 1200000 has been processed\n",
            "Tweets 910000 of 1200000 has been processed\n",
            "Tweets 920000 of 1200000 has been processed\n",
            "Tweets 930000 of 1200000 has been processed\n",
            "Tweets 940000 of 1200000 has been processed\n",
            "Tweets 950000 of 1200000 has been processed\n",
            "Tweets 960000 of 1200000 has been processed\n",
            "Tweets 970000 of 1200000 has been processed\n",
            "Tweets 980000 of 1200000 has been processed\n",
            "Tweets 990000 of 1200000 has been processed\n",
            "Tweets 1000000 of 1200000 has been processed\n",
            "Tweets 1010000 of 1200000 has been processed\n",
            "Tweets 1020000 of 1200000 has been processed\n",
            "Tweets 1030000 of 1200000 has been processed\n",
            "Tweets 1040000 of 1200000 has been processed\n",
            "Tweets 1050000 of 1200000 has been processed\n",
            "Tweets 1060000 of 1200000 has been processed\n",
            "Tweets 1070000 of 1200000 has been processed\n",
            "Tweets 1080000 of 1200000 has been processed\n",
            "Tweets 1090000 of 1200000 has been processed\n",
            "Tweets 1100000 of 1200000 has been processed\n",
            "Tweets 1110000 of 1200000 has been processed\n",
            "Tweets 1120000 of 1200000 has been processed\n",
            "Tweets 1130000 of 1200000 has been processed\n",
            "Tweets 1140000 of 1200000 has been processed\n",
            "Tweets 1150000 of 1200000 has been processed\n",
            "Tweets 1160000 of 1200000 has been processed\n",
            "Tweets 1170000 of 1200000 has been processed\n",
            "Tweets 1180000 of 1200000 has been processed\n",
            "Tweets 1190000 of 1200000 has been processed\n",
            "Tweets 1200000 of 1200000 has been processed\n",
            "CPU times: user 1min 8s, sys: 3.91 s, total: 1min 12s\n",
            "Wall time: 1min 11s\n"
          ],
          "name": "stdout"
        }
      ]
    },
    {
      "metadata": {
        "id": "YQ22KNsa0wKH",
        "colab_type": "code",
        "colab": {
          "base_uri": "https://localhost:8080/",
          "height": 34
        },
        "outputId": "c334dc15-2bb4-4d06-8d48-90ff5fea8c03"
      },
      "cell_type": "code",
      "source": [
        "len(clean_tweet_texts)"
      ],
      "execution_count": 75,
      "outputs": [
        {
          "output_type": "execute_result",
          "data": {
            "text/plain": [
              "1200000"
            ]
          },
          "metadata": {
            "tags": []
          },
          "execution_count": 75
        }
      ]
    },
    {
      "metadata": {
        "id": "KquF6-Jf0z3c",
        "colab_type": "code",
        "colab": {
          "base_uri": "https://localhost:8080/",
          "height": 765
        },
        "outputId": "4d251b7a-0f9a-472f-9640-b284d5a50db3"
      },
      "cell_type": "code",
      "source": [
        "%%time\n",
        "print(\"Cleaning and parsing the tweets...\\n\")\n",
        "for i in range(nums[3],nums[4]):\n",
        "    if( (i+1)%10000 == 0 ):\n",
        "        print (\"Tweets %d of %d has been processed\" % ( i+1, nums[4] ))                                        \n",
        "    clean_tweet_texts.append(tweet_cleaner(df['text'][i]))"
      ],
      "execution_count": 76,
      "outputs": [
        {
          "output_type": "stream",
          "text": [
            "Cleaning and parsing the tweets...\n",
            "\n",
            "Tweets 1210000 of 1600000 has been processed\n",
            "Tweets 1220000 of 1600000 has been processed\n",
            "Tweets 1230000 of 1600000 has been processed\n",
            "Tweets 1240000 of 1600000 has been processed\n",
            "Tweets 1250000 of 1600000 has been processed\n",
            "Tweets 1260000 of 1600000 has been processed\n",
            "Tweets 1270000 of 1600000 has been processed\n",
            "Tweets 1280000 of 1600000 has been processed\n",
            "Tweets 1290000 of 1600000 has been processed\n",
            "Tweets 1300000 of 1600000 has been processed\n",
            "Tweets 1310000 of 1600000 has been processed\n",
            "Tweets 1320000 of 1600000 has been processed\n",
            "Tweets 1330000 of 1600000 has been processed\n",
            "Tweets 1340000 of 1600000 has been processed\n",
            "Tweets 1350000 of 1600000 has been processed\n",
            "Tweets 1360000 of 1600000 has been processed\n",
            "Tweets 1370000 of 1600000 has been processed\n",
            "Tweets 1380000 of 1600000 has been processed\n",
            "Tweets 1390000 of 1600000 has been processed\n",
            "Tweets 1400000 of 1600000 has been processed\n",
            "Tweets 1410000 of 1600000 has been processed\n",
            "Tweets 1420000 of 1600000 has been processed\n",
            "Tweets 1430000 of 1600000 has been processed\n",
            "Tweets 1440000 of 1600000 has been processed\n",
            "Tweets 1450000 of 1600000 has been processed\n",
            "Tweets 1460000 of 1600000 has been processed\n",
            "Tweets 1470000 of 1600000 has been processed\n",
            "Tweets 1480000 of 1600000 has been processed\n",
            "Tweets 1490000 of 1600000 has been processed\n",
            "Tweets 1500000 of 1600000 has been processed\n",
            "Tweets 1510000 of 1600000 has been processed\n",
            "Tweets 1520000 of 1600000 has been processed\n",
            "Tweets 1530000 of 1600000 has been processed\n",
            "Tweets 1540000 of 1600000 has been processed\n",
            "Tweets 1550000 of 1600000 has been processed\n",
            "Tweets 1560000 of 1600000 has been processed\n",
            "Tweets 1570000 of 1600000 has been processed\n",
            "Tweets 1580000 of 1600000 has been processed\n",
            "Tweets 1590000 of 1600000 has been processed\n",
            "Tweets 1600000 of 1600000 has been processed\n",
            "CPU times: user 1min 8s, sys: 3.88 s, total: 1min 12s\n",
            "Wall time: 1min 12s\n"
          ],
          "name": "stdout"
        }
      ]
    },
    {
      "metadata": {
        "id": "MrrVdfcs0_eA",
        "colab_type": "code",
        "colab": {
          "base_uri": "https://localhost:8080/",
          "height": 34
        },
        "outputId": "eeaa2613-ce93-4dc3-a6e5-61e0eb62708c"
      },
      "cell_type": "code",
      "source": [
        "len(clean_tweet_texts)"
      ],
      "execution_count": 77,
      "outputs": [
        {
          "output_type": "execute_result",
          "data": {
            "text/plain": [
              "1600000"
            ]
          },
          "metadata": {
            "tags": []
          },
          "execution_count": 77
        }
      ]
    },
    {
      "metadata": {
        "id": "2QPlPuHr1E9V",
        "colab_type": "text"
      },
      "cell_type": "markdown",
      "source": [
        "# Saving cleaned data as csv"
      ]
    },
    {
      "metadata": {
        "id": "WmCcMBxw1ERL",
        "colab_type": "code",
        "colab": {
          "base_uri": "https://localhost:8080/",
          "height": 204
        },
        "outputId": "7750b250-6fa0-4e05-e81b-d65a651f199b"
      },
      "cell_type": "code",
      "source": [
        "clean_df = pd.DataFrame(clean_tweet_texts,columns=['text'])\n",
        "clean_df['target'] = df.sentiment\n",
        "clean_df.head()"
      ],
      "execution_count": 78,
      "outputs": [
        {
          "output_type": "execute_result",
          "data": {
            "text/html": [
              "<div>\n",
              "<style scoped>\n",
              "    .dataframe tbody tr th:only-of-type {\n",
              "        vertical-align: middle;\n",
              "    }\n",
              "\n",
              "    .dataframe tbody tr th {\n",
              "        vertical-align: top;\n",
              "    }\n",
              "\n",
              "    .dataframe thead th {\n",
              "        text-align: right;\n",
              "    }\n",
              "</style>\n",
              "<table border=\"1\" class=\"dataframe\">\n",
              "  <thead>\n",
              "    <tr style=\"text-align: right;\">\n",
              "      <th></th>\n",
              "      <th>text</th>\n",
              "      <th>target</th>\n",
              "    </tr>\n",
              "  </thead>\n",
              "  <tbody>\n",
              "    <tr>\n",
              "      <th>0</th>\n",
              "      <td>awww that s a bummer you shoulda got david car...</td>\n",
              "      <td>0</td>\n",
              "    </tr>\n",
              "    <tr>\n",
              "      <th>1</th>\n",
              "      <td>is upset that he can t update his facebook by ...</td>\n",
              "      <td>0</td>\n",
              "    </tr>\n",
              "    <tr>\n",
              "      <th>2</th>\n",
              "      <td>i dived many times for the ball managed to sav...</td>\n",
              "      <td>0</td>\n",
              "    </tr>\n",
              "    <tr>\n",
              "      <th>3</th>\n",
              "      <td>my whole body feels itchy and like its on fire</td>\n",
              "      <td>0</td>\n",
              "    </tr>\n",
              "    <tr>\n",
              "      <th>4</th>\n",
              "      <td>no it s not behaving at all i m mad why am i h...</td>\n",
              "      <td>0</td>\n",
              "    </tr>\n",
              "  </tbody>\n",
              "</table>\n",
              "</div>"
            ],
            "text/plain": [
              "                                                text  target\n",
              "0  awww that s a bummer you shoulda got david car...       0\n",
              "1  is upset that he can t update his facebook by ...       0\n",
              "2  i dived many times for the ball managed to sav...       0\n",
              "3     my whole body feels itchy and like its on fire       0\n",
              "4  no it s not behaving at all i m mad why am i h...       0"
            ]
          },
          "metadata": {
            "tags": []
          },
          "execution_count": 78
        }
      ]
    },
    {
      "metadata": {
        "id": "kyAHitlR1Obl",
        "colab_type": "code",
        "colab": {
          "base_uri": "https://localhost:8080/",
          "height": 0
        },
        "outputId": "e46d5da7-1d99-4895-df60-e6ca2b783a3a"
      },
      "cell_type": "code",
      "source": [
        "clean_df.to_csv('clean_tweet.csv',encoding='utf-8', index=False)"
      ],
      "execution_count": 82,
      "outputs": []
    },
    {
      "metadata": {
        "id": "VS9ymYEK1PfX",
        "colab_type": "code",
        "colab": {
          "base_uri": "https://localhost:8080/",
          "height": 204
        },
        "outputId": "2a0bbc94-23f5-45cb-c5cd-8365aab0517d"
      },
      "cell_type": "code",
      "source": [
        "csv = 'clean_tweet.csv'\n",
        "my_df = pd.read_csv(csv, index_col=None)\n",
        "my_df.head()"
      ],
      "execution_count": 86,
      "outputs": [
        {
          "output_type": "execute_result",
          "data": {
            "text/html": [
              "<div>\n",
              "<style scoped>\n",
              "    .dataframe tbody tr th:only-of-type {\n",
              "        vertical-align: middle;\n",
              "    }\n",
              "\n",
              "    .dataframe tbody tr th {\n",
              "        vertical-align: top;\n",
              "    }\n",
              "\n",
              "    .dataframe thead th {\n",
              "        text-align: right;\n",
              "    }\n",
              "</style>\n",
              "<table border=\"1\" class=\"dataframe\">\n",
              "  <thead>\n",
              "    <tr style=\"text-align: right;\">\n",
              "      <th></th>\n",
              "      <th>text</th>\n",
              "      <th>target</th>\n",
              "    </tr>\n",
              "  </thead>\n",
              "  <tbody>\n",
              "    <tr>\n",
              "      <th>0</th>\n",
              "      <td>awww that s a bummer you shoulda got david car...</td>\n",
              "      <td>0</td>\n",
              "    </tr>\n",
              "    <tr>\n",
              "      <th>1</th>\n",
              "      <td>is upset that he can t update his facebook by ...</td>\n",
              "      <td>0</td>\n",
              "    </tr>\n",
              "    <tr>\n",
              "      <th>2</th>\n",
              "      <td>i dived many times for the ball managed to sav...</td>\n",
              "      <td>0</td>\n",
              "    </tr>\n",
              "    <tr>\n",
              "      <th>3</th>\n",
              "      <td>my whole body feels itchy and like its on fire</td>\n",
              "      <td>0</td>\n",
              "    </tr>\n",
              "    <tr>\n",
              "      <th>4</th>\n",
              "      <td>no it s not behaving at all i m mad why am i h...</td>\n",
              "      <td>0</td>\n",
              "    </tr>\n",
              "  </tbody>\n",
              "</table>\n",
              "</div>"
            ],
            "text/plain": [
              "                                                text  target\n",
              "0  awww that s a bummer you shoulda got david car...       0\n",
              "1  is upset that he can t update his facebook by ...       0\n",
              "2  i dived many times for the ball managed to sav...       0\n",
              "3     my whole body feels itchy and like its on fire       0\n",
              "4  no it s not behaving at all i m mad why am i h...       0"
            ]
          },
          "metadata": {
            "tags": []
          },
          "execution_count": 86
        }
      ]
    },
    {
      "metadata": {
        "id": "_C8LrGgw1uMm",
        "colab_type": "code",
        "colab": {
          "base_uri": "https://localhost:8080/",
          "height": 0
        },
        "outputId": "2cde609b-f683-4e66-9c69-cff72a1f7cac"
      },
      "cell_type": "code",
      "source": [
        "files.download('clean_tweet.csv')"
      ],
      "execution_count": 87,
      "outputs": []
    },
    {
      "metadata": {
        "id": "CCC6y9OW5534",
        "colab_type": "text"
      },
      "cell_type": "markdown",
      "source": [
        "#Uploading the Cleaned data"
      ]
    },
    {
      "metadata": {
        "id": "WPiiJHKc17ON",
        "colab_type": "code",
        "colab": {
          "base_uri": "https://localhost:8080/",
          "height": 72
        },
        "outputId": "3833cceb-7519-4ace-ffd4-f07b7e6f6734"
      },
      "cell_type": "code",
      "source": [
        "from google.colab import files\n",
        "\n",
        "uploaded = files.upload()"
      ],
      "execution_count": 2,
      "outputs": [
        {
          "output_type": "display_data",
          "data": {
            "text/html": [
              "\n",
              "     <input type=\"file\" id=\"files-3fc74bd3-bf15-4680-b96d-f2c49c2ab954\" name=\"files[]\" multiple disabled />\n",
              "     <output id=\"result-3fc74bd3-bf15-4680-b96d-f2c49c2ab954\">\n",
              "      Upload widget is only available when the cell has been executed in the\n",
              "      current browser session. Please rerun this cell to enable.\n",
              "      </output>\n",
              "      <script src=\"/nbextensions/google.colab/files.js\"></script> "
            ],
            "text/plain": [
              "<IPython.core.display.HTML object>"
            ]
          },
          "metadata": {
            "tags": []
          }
        },
        {
          "output_type": "stream",
          "text": [
            "Saving clean_tweet.zip to clean_tweet.zip\n"
          ],
          "name": "stdout"
        }
      ]
    },
    {
      "metadata": {
        "id": "XQmUaqsOFyN0",
        "colab_type": "code",
        "colab": {
          "base_uri": "https://localhost:8080/",
          "height": 0
        },
        "outputId": "10500f01-6ead-4afb-a29e-172bc5c69e33"
      },
      "cell_type": "code",
      "source": [
        "import os\n",
        "\n",
        "datasets_path = os.path.join('..', 'datalab')"
      ],
      "execution_count": 3,
      "outputs": []
    },
    {
      "metadata": {
        "id": "aQlx4V407ZWq",
        "colab_type": "code",
        "colab": {
          "base_uri": "https://localhost:8080/",
          "height": 17
        },
        "outputId": "7572a994-4b81-4895-bdd2-1c08c85ab510"
      },
      "cell_type": "code",
      "source": [
        "import zipfile\n",
        "\n",
        "\n",
        "with zipfile.ZipFile('clean_tweet.zip', \"r\") as z:\n",
        "    z.extractall(datasets_path)"
      ],
      "execution_count": 4,
      "outputs": []
    },
    {
      "metadata": {
        "id": "oRJAuzkFKkEq",
        "colab_type": "code",
        "colab": {
          "base_uri": "https://localhost:8080/",
          "height": 34
        },
        "outputId": "0cc511eb-27c6-4afc-a62a-91969693de3d"
      },
      "cell_type": "code",
      "source": [
        "!ls ../datalab"
      ],
      "execution_count": 5,
      "outputs": [
        {
          "output_type": "stream",
          "text": [
            "clean_tweet.csv  run.sh  web\r\n"
          ],
          "name": "stdout"
        }
      ]
    },
    {
      "metadata": {
        "id": "h-ah4dUoEYbk",
        "colab_type": "text"
      },
      "cell_type": "markdown",
      "source": [
        "#Initialize Spark"
      ]
    },
    {
      "metadata": {
        "id": "X4OvywSP6BcL",
        "colab_type": "code",
        "colab": {
          "base_uri": "https://localhost:8080/",
          "height": 380
        },
        "outputId": "becade41-7c7e-4a8c-8cc9-73567783da99"
      },
      "cell_type": "code",
      "source": [
        "!apt-get update \n",
        "!apt-get install openjdk-8-jdk-headless -qq > /dev/null\n",
        "!wget -q http://apache.osuosl.org/spark/spark-2.2.1/spark-2.2.1-bin-hadoop2.7.tgz\n",
        "!tar xf spark-2.2.1-bin-hadoop2.7.tgz\n",
        "!pip install -q findspark\n",
        "\n",
        "import os\n",
        "os.environ[\"JAVA_HOME\"] = \"/usr/lib/jvm/java-8-openjdk-amd64\"\n",
        "os.environ[\"SPARK_HOME\"] = \"/content/spark-2.2.1-bin-hadoop2.7\"\n",
        "\n",
        "import findspark\n",
        "findspark.init()\n",
        "from pyspark.sql import SparkSession\n",
        "spark = SparkSession.builder.master(\"local[*]\").getOrCreate()\n",
        "\n",
        "sc = spark.sparkContext\n",
        "sc"
      ],
      "execution_count": 6,
      "outputs": [
        {
          "output_type": "stream",
          "text": [
            "Hit:1 http://archive.ubuntu.com/ubuntu artful InRelease\n",
            "Get:2 http://archive.ubuntu.com/ubuntu artful-updates InRelease [88.7 kB]\n",
            "Get:3 http://archive.ubuntu.com/ubuntu artful-backports InRelease [74.6 kB]\n",
            "Get:4 http://security.ubuntu.com/ubuntu artful-security InRelease [83.2 kB]\n",
            "Get:5 http://archive.ubuntu.com/ubuntu artful-updates/universe Sources [46.2 kB]\n",
            "Get:6 http://archive.ubuntu.com/ubuntu artful-updates/main amd64 Packages [365 kB]\n",
            "Get:7 http://archive.ubuntu.com/ubuntu artful-updates/universe amd64 Packages [150 kB]\n",
            "Get:8 http://security.ubuntu.com/ubuntu artful-security/universe Sources [21.5 kB]\n",
            "Get:9 http://security.ubuntu.com/ubuntu artful-security/universe amd64 Packages [84.3 kB]\n",
            "Fetched 914 kB in 1s (543 kB/s)\n",
            "Reading package lists... Done\n"
          ],
          "name": "stdout"
        },
        {
          "output_type": "execute_result",
          "data": {
            "text/html": [
              "\n",
              "        <div>\n",
              "            <p><b>SparkContext</b></p>\n",
              "\n",
              "            <p><a href=\"http://172.28.0.2:4040\">Spark UI</a></p>\n",
              "\n",
              "            <dl>\n",
              "              <dt>Version</dt>\n",
              "                <dd><code>v2.2.1</code></dd>\n",
              "              <dt>Master</dt>\n",
              "                <dd><code>local[*]</code></dd>\n",
              "              <dt>AppName</dt>\n",
              "                <dd><code>pyspark-shell</code></dd>\n",
              "            </dl>\n",
              "        </div>\n",
              "        "
            ],
            "text/plain": [
              "<SparkContext master=local[*] appName=pyspark-shell>"
            ]
          },
          "metadata": {
            "tags": []
          },
          "execution_count": 6
        }
      ]
    },
    {
      "metadata": {
        "id": "vonmtgUaLpe3",
        "colab_type": "code",
        "colab": {
          "base_uri": "https://localhost:8080/",
          "height": 34
        },
        "outputId": "23de0a45-c00f-4a8a-c22d-ef874e9ee9a7"
      },
      "cell_type": "code",
      "source": [
        "import findspark\n",
        "findspark.init()\n",
        "import pyspark as ps\n",
        "import warnings\n",
        "from pyspark.sql import SQLContext\n",
        "\n",
        "try:\n",
        "    # create SparkContext on all CPUs available: in my case I have 4 CPUs on my laptop\n",
        "\n",
        "    sqlContext = SQLContext(sc)\n",
        "    print(\"Just created a SparkContext\")\n",
        "except ValueError:\n",
        "    warnings.warn(\"SparkContext already exists in this scope\")"
      ],
      "execution_count": 7,
      "outputs": [
        {
          "output_type": "stream",
          "text": [
            "Just created a SparkContext\n"
          ],
          "name": "stdout"
        }
      ]
    },
    {
      "metadata": {
        "id": "--9g1ANPGItM",
        "colab_type": "text"
      },
      "cell_type": "markdown",
      "source": [
        "#Loading the Dataframe in Spark-SQL context."
      ]
    },
    {
      "metadata": {
        "id": "rWUZ0j33LZrr",
        "colab_type": "code",
        "colab": {
          "base_uri": "https://localhost:8080/",
          "height": 0
        },
        "outputId": "6e1e16b3-5e14-42d0-cb79-8711512b6cce"
      },
      "cell_type": "code",
      "source": [
        "df = sqlContext.read.format('com.databricks.spark.csv').options(header='true', inferschema='true').load('../datalab/clean_tweet.csv')"
      ],
      "execution_count": 8,
      "outputs": []
    },
    {
      "metadata": {
        "id": "NYRuy_HCMTt2",
        "colab_type": "code",
        "colab": {
          "base_uri": "https://localhost:8080/",
          "height": 34
        },
        "outputId": "a1b0e6e1-b5f1-46f7-8814-9958f3c5f18e"
      },
      "cell_type": "code",
      "source": [
        "type(df)"
      ],
      "execution_count": 9,
      "outputs": [
        {
          "output_type": "execute_result",
          "data": {
            "text/plain": [
              "pyspark.sql.dataframe.DataFrame"
            ]
          },
          "metadata": {
            "tags": []
          },
          "execution_count": 9
        }
      ]
    },
    {
      "metadata": {
        "id": "k-mhbql5MXdR",
        "colab_type": "code",
        "colab": {
          "base_uri": "https://localhost:8080/",
          "height": 204
        },
        "outputId": "01f3474d-3ec2-4d1e-e892-d4b5fb96119d"
      },
      "cell_type": "code",
      "source": [
        "df.show(5)"
      ],
      "execution_count": 10,
      "outputs": [
        {
          "output_type": "stream",
          "text": [
            "+--------------------+------+\n",
            "|                text|target|\n",
            "+--------------------+------+\n",
            "|awww that s a bum...|     0|\n",
            "|is upset that he ...|     0|\n",
            "|i dived many time...|     0|\n",
            "|my whole body fee...|     0|\n",
            "|no it s not behav...|     0|\n",
            "+--------------------+------+\n",
            "only showing top 5 rows\n",
            "\n"
          ],
          "name": "stdout"
        }
      ]
    },
    {
      "metadata": {
        "id": "TXQraihNKvS-",
        "colab_type": "code",
        "colab": {
          "base_uri": "https://localhost:8080/",
          "height": 0
        },
        "outputId": "3401f604-f388-4382-924f-c7c44c417838"
      },
      "cell_type": "code",
      "source": [
        "df = df.dropna()"
      ],
      "execution_count": 11,
      "outputs": []
    },
    {
      "metadata": {
        "id": "YWcj33UkMh6H",
        "colab_type": "code",
        "colab": {
          "base_uri": "https://localhost:8080/",
          "height": 34
        },
        "outputId": "40d877da-35c3-4e6e-84ce-7f573a540070"
      },
      "cell_type": "code",
      "source": [
        "df.count()"
      ],
      "execution_count": 12,
      "outputs": [
        {
          "output_type": "execute_result",
          "data": {
            "text/plain": [
              "1525679"
            ]
          },
          "metadata": {
            "tags": []
          },
          "execution_count": 12
        }
      ]
    },
    {
      "metadata": {
        "id": "F1mkQtFiMmK8",
        "colab_type": "code",
        "colab": {
          "base_uri": "https://localhost:8080/",
          "height": 0
        },
        "outputId": "1ac8fcf0-97b0-4651-b36c-7f4a0fb3720e"
      },
      "cell_type": "code",
      "source": [
        "(train_set, val_set, test_set) = df.randomSplit([0.98, 0.01, 0.01], seed = 2000)"
      ],
      "execution_count": 13,
      "outputs": []
    },
    {
      "metadata": {
        "id": "TSEqaUX_Mq21",
        "colab_type": "text"
      },
      "cell_type": "markdown",
      "source": [
        "# HashingTF + IDF + Logistic Regression"
      ]
    },
    {
      "metadata": {
        "id": "1kl9OMWbMmFv",
        "colab_type": "code",
        "colab": {
          "base_uri": "https://localhost:8080/",
          "height": 0
        },
        "outputId": "99e94f4b-f629-46b6-b0bf-053fae44e3bc"
      },
      "cell_type": "code",
      "source": [
        "\n",
        "from pyspark.ml.feature import HashingTF, IDF, Tokenizer, CountVectorizer\n",
        "from pyspark.ml.feature import StringIndexer\n",
        "from pyspark.ml import Pipeline\n",
        "from pyspark.ml.classification import LogisticRegression\n",
        "from pyspark.ml.evaluation import BinaryClassificationEvaluator\n",
        "\n",
        "from pyspark.ml.feature import HashingTF, IDF, Tokenizer\n",
        "from pyspark.ml.feature import StringIndexer\n",
        "from pyspark.ml import Pipeline"
      ],
      "execution_count": 16,
      "outputs": []
    },
    {
      "metadata": {
        "id": "17cDh4FP7vw8",
        "colab_type": "text"
      },
      "cell_type": "markdown",
      "source": [
        "- Tokenization : Tokenizer() splits text into tokens. These tokens could be paragraphs, sentences or individual words. Here, we are tokenizing into words.\n",
        "- Term Frequency TF: Term frequency - inverse term frequency is a feature vectorization method widely used in text mining to reflect the importance of a term to a document in the corpus (corpus is a large and structured set of texts)\n",
        " Denote a term by t, a document by d, and the corpus by D. Term frequency TF(t,d) is the number of times that term t appears in document d, while document frequency DF(t,D) is the number of documents that contains term t.\n",
        " If we only use term frequency to measure the importance, it is very easy to over-emphasize terms that appear very often but carry little information about the document, e.g., “a”, “the”, and “of”. If a term appears very often across the corpus, it means it doesn’t carry special information about a particular document. Inverse document frequency is a numerical measure of how much information a term provides:\n",
        "There are several variants on the definition of term frequency and document frequency. In spark.mllib, we separate TF and IDF to make them flexible.  Our implementation of term frequency utilizes the hashing trick. A raw feature is mapped into an index (term) by applying a hash function. Then term frequencies are calculated based on the mapped indices. This approach avoids the need to compute a global term-to-index map, which can be expensive for a large corpus, but it suffers from potential hash collisions, where different raw features may become the same term after hashing. To reduce the chance of collision, we can increase the target feature dimension, i.e., the number of buckets of the hash table. The default feature dimension is 220=1,048,576."
      ]
    },
    {
      "metadata": {
        "id": "22R2g2_1MmAh",
        "colab_type": "code",
        "colab": {
          "base_uri": "https://localhost:8080/",
          "height": 204
        },
        "outputId": "fc571ef8-7057-4b07-e6e2-d752007c5eb8"
      },
      "cell_type": "code",
      "source": [
        "tokenizer = Tokenizer(inputCol=\"text\", outputCol=\"words\")\n",
        "hashtf = HashingTF(numFeatures=2**16, inputCol=\"words\", outputCol='tf')\n",
        "idf = IDF(inputCol='tf', outputCol=\"features\", minDocFreq=5) #minDocFreq: remove sparse terms\n",
        "label_stringIdx = StringIndexer(inputCol = \"target\", outputCol = \"label\")\n",
        "pipeline = Pipeline(stages=[tokenizer, hashtf, idf, label_stringIdx])\n",
        "\n",
        "pipelineFit = pipeline.fit(train_set)\n",
        "train_df = pipelineFit.transform(train_set)\n",
        "val_df = pipelineFit.transform(val_set)\n",
        "train_df.show(5)"
      ],
      "execution_count": 18,
      "outputs": [
        {
          "output_type": "stream",
          "text": [
            "+--------------------+------+--------------------+--------------------+--------------------+-----+\n",
            "|                text|target|               words|                  tf|            features|label|\n",
            "+--------------------+------+--------------------+--------------------+--------------------+-----+\n",
            "|                   a|     0|                 [a]|(65536,[30802],[1...|(65536,[30802],[1...|  0.0|\n",
            "|a actually don t ...|     0|[a, actually, don...|(65536,[1903,1588...|(65536,[1903,1588...|  0.0|\n",
            "|a actually due to...|     0|[a, actually, due...|(65536,[338,1903,...|(65536,[338,1903,...|  0.0|\n",
            "|a ah kan fb nih n...|     0|[a, ah, kan, fb, ...|(65536,[546,6387,...|(65536,[546,6387,...|  0.0|\n",
            "|   a airfranceflight|     0|[a, airfranceflight]|(65536,[30802,527...|(65536,[30802,527...|  0.0|\n",
            "+--------------------+------+--------------------+--------------------+--------------------+-----+\n",
            "only showing top 5 rows\n",
            "\n"
          ],
          "name": "stdout"
        }
      ]
    },
    {
      "metadata": {
        "id": "DAtJwY1KMl65",
        "colab_type": "code",
        "colab": {
          "base_uri": "https://localhost:8080/",
          "height": 0
        },
        "outputId": "019e22b0-09c1-43a4-9ad7-5632644fe95b"
      },
      "cell_type": "code",
      "source": [
        "from pyspark.ml.classification import LogisticRegression\n",
        "lr = LogisticRegression(maxIter=100)\n",
        "lrModel = lr.fit(train_df)\n",
        "predictions = lrModel.transform(val_df)"
      ],
      "execution_count": 19,
      "outputs": []
    },
    {
      "metadata": {
        "id": "gMIQ0sM0Mlza",
        "colab_type": "code",
        "colab": {
          "base_uri": "https://localhost:8080/",
          "height": 34
        },
        "outputId": "8440170c-f36f-417d-9ffd-964e9f2f6adb"
      },
      "cell_type": "code",
      "source": [
        "from pyspark.ml.evaluation import BinaryClassificationEvaluator\n",
        "evaluator = BinaryClassificationEvaluator(rawPredictionCol=\"rawPrediction\")\n",
        "evaluator.evaluate(predictions)"
      ],
      "execution_count": 20,
      "outputs": [
        {
          "output_type": "execute_result",
          "data": {
            "text/plain": [
              "0.8608587198369572"
            ]
          },
          "metadata": {
            "tags": []
          },
          "execution_count": 20
        }
      ]
    },
    {
      "metadata": {
        "id": "ackPFbaDMltV",
        "colab_type": "code",
        "colab": {
          "base_uri": "https://localhost:8080/",
          "height": 34
        },
        "outputId": "b95944bd-f145-4381-dde6-8e23fad6ebc2"
      },
      "cell_type": "code",
      "source": [
        "evaluator.getMetricName()"
      ],
      "execution_count": 21,
      "outputs": [
        {
          "output_type": "execute_result",
          "data": {
            "text/plain": [
              "'areaUnderROC'"
            ]
          },
          "metadata": {
            "tags": []
          },
          "execution_count": 21
        }
      ]
    },
    {
      "metadata": {
        "id": "QXQXa7_SP5oe",
        "colab_type": "code",
        "colab": {
          "base_uri": "https://localhost:8080/",
          "height": 34
        },
        "outputId": "85065006-0e3a-4b5b-cb7e-af87d041c3cc"
      },
      "cell_type": "code",
      "source": [
        "accuracy = predictions.filter(predictions.label == predictions.prediction).count() / float(val_set.count())\n",
        "accuracy"
      ],
      "execution_count": 22,
      "outputs": [
        {
          "output_type": "execute_result",
          "data": {
            "text/plain": [
              "0.7912807621063773"
            ]
          },
          "metadata": {
            "tags": []
          },
          "execution_count": 22
        }
      ]
    },
    {
      "metadata": {
        "id": "hPRdAxfIP-UK",
        "colab_type": "text"
      },
      "cell_type": "markdown",
      "source": [
        "# CountVectorizer + IDF + Logistic Regression"
      ]
    },
    {
      "metadata": {
        "id": "SNY8DGCjBHFq",
        "colab_type": "text"
      },
      "cell_type": "markdown",
      "source": [
        "Count Vectorizer:\n",
        "\n",
        "With count vectorizer, we merely count the appearance of the words in each text. For example, let’s say we have 3 documents in a corpus: “I love dogs”, “I hate dogs and knitting”, “Knitting is my hobby and my passion”. If we build vocabulary from these three sentences and represent each document as count vectors, it will look like below pictures.\n",
        "\n",
        "![alt text](https://cdn-images-1.medium.com/max/800/1*LD5XaHzOnoniU4p137FL5g.jpeg)\n",
        "\n",
        "\n",
        "But if the size of a corpus gets big, the number of vocabulary gets too big to process. With my 1.5 million tweets, if I build vocabulary without limiting the number of vocabulary, I will have more than 260,000 vocabularies. This means that the shape of training data will be around 1,500,000 x 260,000, this sounds too big to train various different models with. So I decided to limit the number of vocabularies, but I also wanted to see how the performance varies depending on the number of vocabularies.\n",
        "\n",
        "vocabsize - Max size of the vocabulary. CountVectorizer will build a vocabulary that only considers the top vocabSize terms ordered by term frequency across the corpus."
      ]
    },
    {
      "metadata": {
        "id": "NkwLzL-OP5jH",
        "colab_type": "code",
        "colab": {
          "base_uri": "https://localhost:8080/",
          "height": 85
        },
        "outputId": "cd7475ff-1817-4e5a-e6cc-5249a74b1bd3"
      },
      "cell_type": "code",
      "source": [
        "%%time\n",
        "from pyspark.ml.feature import CountVectorizer\n",
        "\n",
        "tokenizer = Tokenizer(inputCol=\"text\", outputCol=\"words\")\n",
        "cv = CountVectorizer(vocabSize=2**16, inputCol=\"words\", outputCol='cv')\n",
        "idf = IDF(inputCol='cv', outputCol=\"features\", minDocFreq=5) #minDocFreq: remove sparse terms\n",
        "label_stringIdx = StringIndexer(inputCol = \"target\", outputCol = \"label\")\n",
        "lr = LogisticRegression(maxIter=100)\n",
        "pipeline = Pipeline(stages=[tokenizer, cv, idf, label_stringIdx, lr])\n",
        "\n",
        "pipelineFit = pipeline.fit(train_set)\n",
        "predictions = pipelineFit.transform(val_set)\n",
        "accuracy = predictions.filter(predictions.label == predictions.prediction).count() / float(val_set.count())\n",
        "roc_auc = evaluator.evaluate(predictions)\n",
        "\n",
        "print (\"Accuracy Score: {0:.4f}\".format(accuracy))\n",
        "print (\"ROC-AUC: {0:.4f}\".format(roc_auc))"
      ],
      "execution_count": 23,
      "outputs": [
        {
          "output_type": "stream",
          "text": [
            "Accuracy Score: 0.7979\n",
            "ROC-AUC: 0.8675\n",
            "CPU times: user 82 ms, sys: 18 ms, total: 100 ms\n",
            "Wall time: 4min 48s\n"
          ],
          "name": "stdout"
        }
      ]
    },
    {
      "metadata": {
        "id": "YaCAf7ujQJH4",
        "colab_type": "text"
      },
      "cell_type": "markdown",
      "source": [
        "# N-gram Implementation"
      ]
    },
    {
      "metadata": {
        "id": "QwEUmtvDQAmN",
        "colab_type": "text"
      },
      "cell_type": "markdown",
      "source": [
        "According to Wikipedia, “n-gram is a continuous sequence of n items from a given sequence of text or speech”. In other words, n-grams are simply all combinations of adjacent words or letters of length n that you can find in your source text. Below picture represents well how n-grams are constructed out of source text.\n",
        "\n",
        "![alt text](https://cdn-images-1.medium.com/max/800/1*tufb2Ea4ZBVydTuvrIUT5A.png)\n",
        "\n",
        "We will extract 5,460 features each from unigram, bigram, trigram in the first place, to have around 16,000 features in total in the end."
      ]
    },
    {
      "metadata": {
        "id": "ISwkrl6pP5Ri",
        "colab_type": "code",
        "colab": {
          "base_uri": "https://localhost:8080/",
          "height": 0
        },
        "outputId": "e625cfda-42ed-4280-bf68-05c039653fdd"
      },
      "cell_type": "code",
      "source": [
        "from pyspark.ml.feature import NGram, VectorAssembler\n",
        "\n",
        "def build_ngrams_wocs(inputCol=[\"text\",\"target\"], n=3):\n",
        "    tokenizer = [Tokenizer(inputCol=\"text\", outputCol=\"words\")]\n",
        "    ngrams = [\n",
        "        NGram(n=i, inputCol=\"words\", outputCol=\"{0}_grams\".format(i))\n",
        "        for i in range(1, n + 1)\n",
        "    ]\n",
        "\n",
        "    cv = [\n",
        "        CountVectorizer(vocabSize=5460,inputCol=\"{0}_grams\".format(i),\n",
        "            outputCol=\"{0}_tf\".format(i))\n",
        "        for i in range(1, n + 1)\n",
        "    ]\n",
        "    idf = [IDF(inputCol=\"{0}_tf\".format(i), outputCol=\"{0}_tfidf\".format(i), minDocFreq=5) for i in range(1, n + 1)]\n",
        "\n",
        "    assembler = [VectorAssembler(\n",
        "        inputCols=[\"{0}_tfidf\".format(i) for i in range(1, n + 1)],\n",
        "        outputCol=\"features\"\n",
        "    )]\n",
        "    label_stringIdx = [StringIndexer(inputCol = \"target\", outputCol = \"label\")]\n",
        "    lr = [LogisticRegression(maxIter=100)]\n",
        "    return Pipeline(stages=tokenizer + ngrams + cv + idf+ assembler + label_stringIdx+lr)"
      ],
      "execution_count": 17,
      "outputs": []
    },
    {
      "metadata": {
        "id": "ZBk_u2aaP5Kd",
        "colab_type": "code",
        "colab": {
          "base_uri": "https://localhost:8080/",
          "height": 85
        },
        "outputId": "4d516aed-2edb-4d50-839a-b516ff123258"
      },
      "cell_type": "code",
      "source": [
        "%%time\n",
        "\n",
        "from pyspark.ml.evaluation import BinaryClassificationEvaluator\n",
        "trigramwocs_pipelineFit = build_ngrams_wocs().fit(train_set)\n",
        "predictions_wocs = trigramwocs_pipelineFit.transform(val_set)\n",
        "accuracy_wocs = predictions_wocs.filter(predictions_wocs.label == predictions_wocs.prediction).count() / float(val_set.count())\n",
        "\n",
        "evaluator = BinaryClassificationEvaluator(rawPredictionCol=\"rawPrediction\")\n",
        "\n",
        "roc_auc_wocs = evaluator.evaluate(predictions_wocs)\n",
        "\n",
        "# print accuracy, roc_auc\n",
        "print (\"Accuracy Score: {0:.4f}\".format(accuracy_wocs))\n",
        "print(\"ROC-AUC: {0:.4f}\".format(roc_auc_wocs))"
      ],
      "execution_count": 19,
      "outputs": [
        {
          "output_type": "stream",
          "text": [
            "Accuracy Score: 0.8132\n",
            "ROC-AUC: 0.8862\n",
            "CPU times: user 202 ms, sys: 65 ms, total: 267 ms\n",
            "Wall time: 13min 29s\n"
          ],
          "name": "stdout"
        }
      ]
    },
    {
      "metadata": {
        "id": "4aXnWYrGQXSf",
        "colab_type": "text"
      },
      "cell_type": "markdown",
      "source": [
        "This has given me the best result, accuracy has improved to 81%.\n",
        "\n",
        "And finally on the final test set."
      ]
    },
    {
      "metadata": {
        "id": "r_ueys82QWkw",
        "colab_type": "code",
        "colab": {
          "base_uri": "https://localhost:8080/",
          "height": 51
        },
        "outputId": "9eba7ee5-807a-4ded-c42d-9f0eba3fa003"
      },
      "cell_type": "code",
      "source": [
        "test_predictions = trigramwocs_pipelineFit.transform(test_set)\n",
        "test_accuracy = test_predictions.filter(test_predictions.label == test_predictions.prediction).count() / float(test_set.count())\n",
        "test_roc_auc = evaluator.evaluate(test_predictions)\n",
        "\n",
        "# print accuracy, roc_auc\n",
        "print (\"Accuracy Score: {0:.4f}\".format(test_accuracy))\n",
        "print (\"ROC-AUC: {0:.4f}\".format(test_roc_auc))"
      ],
      "execution_count": 20,
      "outputs": [
        {
          "output_type": "stream",
          "text": [
            "Accuracy Score: 0.8167\n",
            "ROC-AUC: 0.8886\n"
          ],
          "name": "stdout"
        }
      ]
    }
  ]
}